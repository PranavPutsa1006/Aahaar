{
  "nbformat": 4,
  "nbformat_minor": 0,
  "metadata": {
    "colab": {
      "name": "Web Scraper.ipynb",
      "provenance": [],
      "collapsed_sections": [],
      "include_colab_link": true
    },
    "kernelspec": {
      "display_name": "Python 3",
      "name": "python3"
    }
  },
  "cells": [
    {
      "cell_type": "markdown",
      "metadata": {
        "id": "view-in-github",
        "colab_type": "text"
      },
      "source": [
        "<a href=\"https://colab.research.google.com/github/PranavPutsa1006/Aahaar/blob/main/Web_Scraper.ipynb\" target=\"_parent\"><img src=\"https://colab.research.google.com/assets/colab-badge.svg\" alt=\"Open In Colab\"/></a>"
      ]
    },
    {
      "cell_type": "markdown",
      "metadata": {
        "id": "QPKdvHY-vbBi"
      },
      "source": [
        "# ***Final with grocery list***"
      ]
    },
    {
      "cell_type": "code",
      "metadata": {
        "colab": {
          "base_uri": "https://localhost:8080/"
        },
        "id": "YAcXqdlHHe39",
        "outputId": "921fbeaa-e344-4b56-817d-53cb2485216a"
      },
      "source": [
        "from bs4 import BeautifulSoup as bs \n",
        "import requests\n",
        "import pandas as pd\n",
        "from datetime import datetime\n",
        "import pytz\n",
        "IST = pytz.timezone('Asia/Kolkata') \n",
        "datetime_ist = datetime.now(IST) \n",
        "print(\"Date & Time: \", datetime_ist.strftime('%Y:%m:%d %H:%M:%S'))\n",
        "date = datetime_ist.strftime(\"%d\")+\"-\"+datetime_ist.strftime(\"%m\")+\"-\"+datetime_ist.strftime(\"%Y\")\n",
        "#.replace(\"Fresho \",\"\")\n",
        "eanCodeLists = [10000148, 40022638, 10000069, 10000071, 10000144, 40050087, 10000103, 10000159, 10000110, 10000097, 10000046, 10000066, 10000074, 40006608, 50000469,\n",
        "                20000745, 10000176, 10000166, 10000188, 10000205, 10000168, 10000194, 40050085, 10000283, 40050704, 10000087, 10000091, 10000044, 20000926, 50000521, \n",
        "                10000427, 20000437, 40018890,  40159879, 20001214, 126906, 264679, 40003550, 10000569,10000439,40203895,40044731,30010377,10000563, 30010385, 10000355, 10000562]\n",
        "\n",
        "ProductNameList = []\n",
        "ProductPriceList = []\n",
        " \n",
        "for item in eanCodeLists:\n",
        "    urlopen = requests.get('https://www.bigbasket.com/pd/'+str(item)).text\n",
        "    soup = bs(urlopen,'lxml')\n",
        "    ProductInfo = soup.find(\"h1\", {\"class\": \"GrE04\"}).text\n",
        "    #print(ProductInfo)\n",
        "    ProductName = ProductInfo.split(\",\")[0].split(\" - \")[0]\n",
        "    if \"/\" in ProductName:\n",
        "        ProductName = ProductName.split(\"/\")[0]\n",
        "    ProductNameList.append(ProductName)\n",
        "    ProducQty = int(ProductInfo.split(\", \")[-1].split()[0])\n",
        "    try:\n",
        "      ProductPrice = float(soup.find(\"td\", {\"class\": \"_2ifWF\"}).text.split()[1])\n",
        "      if(ProductPrice==1750):\n",
        "          print(ProductInfo)\n",
        "    except:\n",
        "      ProductPrice = float(soup.find(\"tbody\", {\"class\": \"_6eiYL\"}).text.split()[1])\n",
        "    if ProducQty == 1:\n",
        "        ProductPrice /= 10\n",
        "    elif ProducQty == 250:\n",
        "        ProductPrice /= 2.5\n",
        "    elif ProducQty == 500:\n",
        "        ProductPrice /= 5\n",
        "    elif ProducQty == 200:\n",
        "        ProductPrice /= 2\n",
        "    elif ProducQty==25:\n",
        "        ProductPrice/=(25*10)\n",
        "    elif item==30005417:\n",
        "        ProductPrice/=5*10\n",
        "    elif item==126906:\n",
        "        ProductPrice/=10*10\n",
        "    elif item==10000569:\n",
        "        ProductPrice/=5*10\n",
        "    elif item==40044731:\n",
        "        ProductPrice/=2*10\n",
        "    ProductPriceList.append(ProductPrice)\n",
        "df = pd.DataFrame(ProductPriceList,columns=[ date])\n",
        "pd.set_option('max_rows',None)\n",
        "print(df.to_string(index=False))"
      ],
      "execution_count": null,
      "outputs": [
        {
          "output_type": "stream",
          "text": [
            "Date & Time:  2021:05:03 20:24:20\n",
            "bb Royal Sona Masoori Raw Rice/Akki, 25 kg (12 - 17 Months Old) \n",
            " 03-05-2021\n",
            "      2.875\n",
            "      1.250\n",
            "      6.000\n",
            "      4.752\n",
            "      3.126\n",
            "      4.750\n",
            "      2.000\n",
            "      2.875\n",
            "      8.750\n",
            "     16.250\n",
            "      3.000\n",
            "      2.125\n",
            "      2.375\n",
            "     18.000\n",
            "      6.500\n",
            "      1.875\n",
            "      8.000\n",
            "      5.000\n",
            "     12.500\n",
            "     13.750\n",
            "      6.250\n",
            "      4.750\n",
            "      9.500\n",
            "     19.750\n",
            "     10.250\n",
            "      6.000\n",
            "      3.000\n",
            "     11.250\n",
            "      8.000\n",
            "      5.000\n",
            "     16.000\n",
            "     18.000\n",
            "     17.500\n",
            "     13.000\n",
            "      7.000\n",
            "      4.900\n",
            "     52.500\n",
            "     17.500\n",
            "      5.500\n",
            "     16.000\n",
            "     16.900\n",
            "     19.000\n",
            "     20.000\n",
            "     20.000\n",
            "     22.000\n",
            "     17.500\n",
            "     20.000\n"
          ],
          "name": "stdout"
        }
      ]
    },
    {
      "cell_type": "code",
      "metadata": {
        "id": "Vqo1hqQEKLKl"
      },
      "source": [
        ""
      ],
      "execution_count": null,
      "outputs": []
    },
    {
      "cell_type": "code",
      "metadata": {
        "id": "BsW0KrJ_KLGE"
      },
      "source": [
        ""
      ],
      "execution_count": null,
      "outputs": []
    },
    {
      "cell_type": "code",
      "metadata": {
        "id": "MN96B8Z2KK-P"
      },
      "source": [
        ""
      ],
      "execution_count": null,
      "outputs": []
    },
    {
      "cell_type": "code",
      "metadata": {
        "id": "3DLYtwlTKK7r"
      },
      "source": [
        ""
      ],
      "execution_count": null,
      "outputs": []
    },
    {
      "cell_type": "code",
      "metadata": {
        "id": "2DULGcCmKK5Q"
      },
      "source": [
        ""
      ],
      "execution_count": null,
      "outputs": []
    },
    {
      "cell_type": "code",
      "metadata": {
        "id": "3-3YfgGSKK2B"
      },
      "source": [
        ""
      ],
      "execution_count": null,
      "outputs": []
    },
    {
      "cell_type": "code",
      "metadata": {
        "id": "dwQq5NLdKKzs"
      },
      "source": [
        ""
      ],
      "execution_count": null,
      "outputs": []
    },
    {
      "cell_type": "code",
      "metadata": {
        "id": "UsoybRIoKKxb"
      },
      "source": [
        ""
      ],
      "execution_count": null,
      "outputs": []
    },
    {
      "cell_type": "code",
      "metadata": {
        "id": "1enXZzunKKtV"
      },
      "source": [
        ""
      ],
      "execution_count": null,
      "outputs": []
    },
    {
      "cell_type": "code",
      "metadata": {
        "id": "VwFrHnqQvua6"
      },
      "source": [
        ""
      ],
      "execution_count": null,
      "outputs": []
    },
    {
      "cell_type": "code",
      "metadata": {
        "colab": {
          "base_uri": "https://localhost:8080/"
        },
        "id": "VObcHOxrvksV",
        "outputId": "7651bc53-d5ac-492d-8fe8-8e462b926082"
      },
      "source": [
        "from bs4 import BeautifulSoup as bs \n",
        "import requests\n",
        "import pandas as pd\n",
        "from datetime import datetime\n",
        "import pytz\n",
        "IST = pytz.timezone('Asia/Kolkata') \n",
        "datetime_ist = datetime.now(IST) \n",
        "print(\"Date & Time: \", datetime_ist.strftime('%Y:%m:%d %H:%M:%S'))\n",
        "date = datetime_ist.strftime(\"%d\")+\"-\"+datetime_ist.strftime(\"%m\")+\"-\"+datetime_ist.strftime(\"%Y\")\n",
        "#.replace(\"Fresho \",\"\")\n",
        "eanCodeLists = [10000148, 40022638, 10000069, 10000071, 10000144, 40050087, 10000103, 10000049, 10000159, 10000110, 10000097, 10000082, 10000046, 10000066, 10000074, 40006608, 50000469, 10000118, 10000127, 20000745, 10000176, 10000166, 10000188, 10000205, 10000093, 10000104, 50000507, 10000168, 40040312, 10000194, 40050085, 10000283, 20000981, 40050704, 10000087, 40016101, 20000974, 10000137, 10000091, 10000293, 10000044, 10000095, 10000197,  20000926, 10000001, 50000521, 20000753, 10000427, 20000437, 40018890,  40159879, 30005417, 10000489, 20001214, 126906, 264679, 40003550, 40003162, 10000569,10000439,40203895,40125924,40002630,40044731,30010377,40067283,10000563,40128951,40112398, 10000549, 150502, 30010385, 10000355, 10000562]\n",
        "\n",
        "ProductNameList = []\n",
        "ProductPriceList = []\n",
        " \n",
        "for item in eanCodeLists:\n",
        "    urlopen = requests.get('https://www.bigbasket.com/pd/'+str(item)).text\n",
        "    soup = bs(urlopen,'lxml')\n",
        "    ProductInfo = soup.find(\"h1\", {\"class\": \"GrE04\"}).text\n",
        "    #print(ProductInfo)\n",
        "    ProductName = ProductInfo.split(\",\")[0].split(\" - \")[0]\n",
        "    if \"/\" in ProductName:\n",
        "        ProductName = ProductName.split(\"/\")[0]\n",
        "    ProductNameList.append(ProductName)\n",
        "    ProducQty = int(ProductInfo.split(\", \")[-1].split()[0])\n",
        "    try:\n",
        "      ProductPrice = float(soup.find(\"td\", {\"class\": \"_2ifWF\"}).text.split()[1])\n",
        "      if(ProductPrice==1750):\n",
        "          print(ProductInfo)\n",
        "    except:\n",
        "      ProductPrice = float(soup.find(\"tbody\", {\"class\": \"_6eiYL\"}).text.split()[1])\n",
        "    if ProducQty == 1:\n",
        "        ProductPrice /= 10\n",
        "    elif ProducQty == 250:\n",
        "        ProductPrice /= 2.5\n",
        "    elif ProducQty == 500:\n",
        "        ProductPrice /= 5\n",
        "    elif ProducQty == 200:\n",
        "        ProductPrice /= 2\n",
        "    elif ProducQty==25:\n",
        "        ProductPrice/=(25*10)\n",
        "    ProductPriceList.append(ProductPrice)\n",
        "df = pd.DataFrame(ProductPriceList,columns=[ date])\n",
        "pd.set_option('max_rows',None)\n",
        "print(df.to_string(index=False))"
      ],
      "execution_count": null,
      "outputs": [
        {
          "output_type": "stream",
          "text": [
            "Date & Time:  2021:02:23 09:13:39\n",
            "bb Royal Sona Masoori Raw Rice, 25 kg (12 - 17 Months Old) \n",
            " 23-02-2021\n",
            "      6.250\n",
            "      3.750\n",
            "      7.500\n",
            "      3.752\n",
            "      8.000\n",
            "      3.250\n",
            "      3.000\n",
            "      6.500\n",
            "      2.875\n",
            "     22.376\n",
            "     16.250\n",
            "      7.500\n",
            "      6.500\n",
            "      1.375\n",
            "      3.375\n",
            "     18.000\n",
            "      5.000\n",
            "      6.500\n",
            "     13.000\n",
            "      2.125\n",
            "      8.250\n",
            "      4.000\n",
            "     10.000\n",
            "     10.500\n",
            "      3.875\n",
            "     17.500\n",
            "     32.500\n",
            "      4.750\n",
            "      9.750\n",
            "      5.000\n",
            "      8.250\n",
            "      7.500\n",
            "     17.500\n",
            "      6.250\n",
            "      4.000\n",
            "     48.750\n",
            "     12.500\n",
            "     12.500\n",
            "      6.500\n",
            "     22.000\n",
            "      7.500\n",
            "      7.000\n",
            "      4.250\n",
            "      8.000\n",
            "     11.500\n",
            "      6.500\n",
            "     11.500\n",
            "     16.000\n",
            "     18.000\n",
            "     17.500\n",
            "     13.000\n",
            "    275.000\n",
            "     10.000\n",
            "      7.000\n",
            "    490.000\n",
            "     49.500\n",
            "     17.500\n",
            "      7.600\n",
            "    275.000\n",
            "     16.000\n",
            "     16.900\n",
            "     17.900\n",
            "     50.000\n",
            "    380.000\n",
            "     20.000\n",
            "     24.000\n",
            "     20.000\n",
            "     18.000\n",
            "    120.000\n",
            "    120.000\n",
            "    210.000\n",
            "     22.000\n",
            "     16.250\n",
            "     20.000\n"
          ],
          "name": "stdout"
        }
      ]
    },
    {
      "cell_type": "code",
      "metadata": {
        "id": "n6VjNAhDSHJ7"
      },
      "source": [
        "df.iloc[51]=\n",
        "df.iloc[54]\n",
        "df.iloc[58]\n",
        "df.iloc[63]\n"
      ],
      "execution_count": null,
      "outputs": []
    },
    {
      "cell_type": "code",
      "metadata": {
        "colab": {
          "base_uri": "https://localhost:8080/"
        },
        "id": "wh4YFMdevuLx",
        "outputId": "61a82fcc-acc4-44e4-dd62-933456ee3a94"
      },
      "source": [
        "#n-2 from dataset\n",
        "eanCodeLists[1]"
      ],
      "execution_count": null,
      "outputs": [
        {
          "output_type": "execute_result",
          "data": {
            "text/plain": [
              "40022638"
            ]
          },
          "metadata": {
            "tags": []
          },
          "execution_count": 38
        }
      ]
    },
    {
      "cell_type": "code",
      "metadata": {
        "colab": {
          "base_uri": "https://localhost:8080/"
        },
        "id": "sbpDN2-vmFu7",
        "outputId": "756eff84-ff34-4571-9e36-338e911175d9"
      },
      "source": [
        "eanCodeLists[53]\n",
        "#30005417,126906,10000569,40044731,150502\n",
        "#51,54,58,63,70\n",
        "#"
      ],
      "execution_count": null,
      "outputs": [
        {
          "output_type": "execute_result",
          "data": {
            "text/plain": [
              "20001214"
            ]
          },
          "metadata": {
            "tags": []
          },
          "execution_count": 33
        }
      ]
    },
    {
      "cell_type": "markdown",
      "metadata": {
        "id": "jjmFAIebUdUK"
      },
      "source": [
        "**UPDATED** **UPDATED** **UPDATED**"
      ]
    },
    {
      "cell_type": "code",
      "metadata": {
        "id": "4GIiBZQpmFmE"
      },
      "source": [
        "print(df.to_string())"
      ],
      "execution_count": null,
      "outputs": []
    },
    {
      "cell_type": "code",
      "metadata": {
        "id": "hHmgzykVmFfl"
      },
      "source": [
        ""
      ],
      "execution_count": null,
      "outputs": []
    },
    {
      "cell_type": "markdown",
      "metadata": {
        "id": "14II8JwCM8lm"
      },
      "source": [
        "## **End of final code**"
      ]
    },
    {
      "cell_type": "code",
      "metadata": {
        "colab": {
          "base_uri": "https://localhost:8080/"
        },
        "id": "qMi9J8K-3UJS",
        "outputId": "b2c705e2-78bd-429a-efc6-0969fec174ff"
      },
      "source": [
        "from bs4 import BeautifulSoup as bs \n",
        "import requests\n",
        "import pandas as pd\n",
        "from datetime import datetime\n",
        " \n",
        "x = datetime.now()\n",
        "date = x.strftime(\"%d\")+\"-\"+x.strftime(\"%m\")+\"-\"+x.strftime(\"%Y\")\n",
        "print(date)\n",
        " \n",
        "# , 40022638, 10000069, 40023469, 10000071, 10000144, 40050087, 10000103, 10000049, 10000159\n",
        "eanCodeLists = [10000148, 40022638, 10000069, 40023469, 10000071, 10000144, 40050087, 10000103, 10000049, 10000159]\n",
        " \n",
        "ProductNameList = []\n",
        "ProductPriceList = []\n",
        " \n",
        "for item in eanCodeLists:\n",
        "    urlopen = requests.get('https://www.bigbasket.com/pd/'+str(item)).text\n",
        "    soup = bs(urlopen,'lxml')\n",
        "    ProductInfo = soup.find(\"h1\", {\"class\": \"GrE04\"}).text\n",
        "    ProductName = ProductInfo.split(\",\")[0].split(\" - \")[0].replace(\"Fresho \",\"\")\n",
        "    print(ProductName)\n",
        "    if \"/\" in ProductName:\n",
        "        ProductName = ProductName.split(\"/\")[0]\n",
        "    ProductNameList.append(ProductName)\n",
        "    ProducQty = int(ProductInfo.split(\", \")[-1].split()[0])\n",
        "    try:\n",
        "      ProductPrice = float(soup.find(\"td\", {\"class\": \"_2ifWF\"}).text.split()[1])\n",
        "    except:\n",
        "      ProductPrice = float(soup.find(\"tbody\", {\"class\": \"_6eiYL\"}).text.split()[1])\n",
        "    if ProducQty == 1:\n",
        "        ProductPrice /= 2\n",
        "    elif ProducQty == 250:\n",
        "        ProductPrice *= 2\n",
        "    ProductPriceList.append(ProductPrice)\n",
        " \n",
        "df = pd.read_excel('bigbasket.xlsx')\n",
        "df1 = pd.DataFrame(ProductPriceList, columns=[date])\n",
        "df2 = pd.concat([df,df1], axis=1)\n",
        "print(df2)\n",
        "df2.to_excel('bigbasket.xlsx',index=False)"
      ],
      "execution_count": null,
      "outputs": [
        {
          "output_type": "stream",
          "text": [
            "15-01-2021\n",
            "Onion\n",
            "Tomato\n",
            "Capsicum\n",
            "Beans\n",
            "Carrot\n",
            "Ladies Finger\n",
            "Pumpkin Green\n",
            "Cucumber\n",
            "Bitter Gourd\n",
            "Potato\n",
            "            Name    Cost  15-01-2021  15-01-2021\n",
            "0          Onion  30.625      30.625      30.625\n",
            "1         Tomato  12.500      12.500      12.500\n",
            "2       Capsicum  42.500      42.500      42.500\n",
            "3          Beans  37.500      37.500      37.500\n",
            "4         Carrot  15.000      15.000      15.000\n",
            "5  Ladies Finger  31.250      31.250      31.250\n",
            "6  Pumpkin Green  20.000      20.000      20.000\n",
            "7       Cucumber  16.250      16.250      16.250\n",
            "8   Bitter Gourd  27.500      27.500      27.500\n",
            "9         Potato  25.625      25.625      25.625\n"
          ],
          "name": "stdout"
        }
      ]
    },
    {
      "cell_type": "code",
      "metadata": {
        "id": "B8wBhlW-_Cj4"
      },
      "source": [
        "df2=pd.read_excel('bigbasket.xlsx')"
      ],
      "execution_count": null,
      "outputs": []
    },
    {
      "cell_type": "code",
      "metadata": {
        "id": "9ePjWVb-_Rfl"
      },
      "source": [
        "df2.head(10)"
      ],
      "execution_count": null,
      "outputs": []
    },
    {
      "cell_type": "code",
      "metadata": {
        "id": "eqPpQphE_S8N"
      },
      "source": [
        "df3=pd.read_excel('Veg_price.xlsx')\n",
        "df3.head(20)"
      ],
      "execution_count": null,
      "outputs": []
    },
    {
      "cell_type": "markdown",
      "metadata": {
        "id": "qvXBNtajcyES"
      },
      "source": [
        "Code"
      ]
    },
    {
      "cell_type": "code",
      "metadata": {
        "colab": {
          "base_uri": "https://localhost:8080/"
        },
        "id": "McH5nzApuQQR",
        "outputId": "7485d5a9-eb2c-42c2-c956-76fdaa5d4bb4"
      },
      "source": [
        "from bs4 import BeautifulSoup as bs \n",
        "import requests\n",
        "import pandas as pd\n",
        "from datetime import datetime\n",
        "\n",
        "def main():\n",
        "    x = datetime.now()\n",
        "    date = x.strftime(\"%d\")+\"-\"+x.strftime(\"%m\")+\"-\"+x.strftime(\"%Y\")\n",
        "    print(date)\n",
        "    \n",
        "    # , 40022638, 10000069, 40023469, 10000071, 10000144, 40050087, 10000103, 10000049, 10000159\n",
        "\n",
        "    eanCodeLists = [10000148, 40022638, 10000069, 10000071, 10000144, 40050087, 10000103, 10000049, 10000159, 10000110, 10000097, 10000082, 10000046, 10000066, 10000074, 40006608, 50000469, 10000118, 10000127, 20000745, 10000176, 10000166, 10000188, 10000205, 10000093, 10000104, 50000507, 10000168, 40040312, 10000194, 40050085, 10000283, 20000981, 40050704, 10000087, 40016101, 20000974, 10000137, 10000091, 10000293, 10000044, 10000095, 10000197,  20000926, 10000001, 50000521, 20000753]\n",
        "    \n",
        "    ProductNameList = []\n",
        "    ProductPriceList = []\n",
        "    \n",
        "    for item in eanCodeLists:\n",
        "        urlopen = requests.get('https://www.bigbasket.com/pd/'+str(item)).text\n",
        "        soup = bs(urlopen,'lxml')\n",
        "        ProductInfo = soup.find(\"h1\", {\"class\": \"GrE04\"}).text\n",
        "        ProductName = ProductInfo.split(\",\")[0].split(\" - \")[0].replace(\"Fresho \",\"\")\n",
        "        if \"/\" in ProductName:\n",
        "            ProductName = ProductName.split(\"/\")[0]\n",
        "        ProductNameList.append(ProductName)\n",
        "        ProducQty = int(ProductInfo.split(\", \")[-1].split()[0])\n",
        "        try:\n",
        "          ProductPrice = float(soup.find(\"td\", {\"class\": \"_2ifWF\"}).text.split()[1])\n",
        "        except:\n",
        "          ProductPrice = float(soup.find(\"tbody\", {\"class\": \"_6eiYL\"}).text.split()[1])\n",
        "        if ProducQty == 1:\n",
        "            ProductPrice /= 2\n",
        "        elif ProducQty == 250:\n",
        "            ProductPrice *= 2\n",
        "        elif ProducQty == 100:\n",
        "            ProductPrice *= 5\n",
        "        elif ProducQty == 200:\n",
        "            ProductPrice *= 2.5\n",
        "        ProductPriceList.append(ProductPrice)\n",
        "    \n",
        "    df = pd.read_excel('sabsee_dataset.xlsx')\n",
        "    df1 = pd.DataFrame(ProductPriceList, columns=[date])\n",
        "    df2 = pd.concat([df,df1], axis=1)\n",
        "    print(df2)\n",
        "    df2.to_excel('sabsee_dataset.xlsx',index=False)\n",
        "\n",
        "if __name__ == '__main__':\n",
        "    main()"
      ],
      "execution_count": null,
      "outputs": [
        {
          "output_type": "stream",
          "text": [
            "26-01-2021\n",
            "           Vegetable  24-01-21  25-01-21  26-01-2021\n",
            "0              Onion    31.250    31.875      31.875\n",
            "1             Tomato    16.250    14.380      13.750\n",
            "2           Capsicum    37.500    32.500      32.500\n",
            "3             Carrot    20.000    22.500      22.500\n",
            "4      Ladies Finger    50.000    50.000      50.000\n",
            "5      Pumpkin Green    20.000    21.250      21.250\n",
            "6           Cucumber    21.250    20.000      20.000\n",
            "7       Bitter Gourd    25.000    25.000      25.000\n",
            "8             Potato    22.500    19.375      19.375\n",
            "9          Drumstick   128.750   123.750     123.750\n",
            "10  Coriander Leaves   100.000   100.000      93.750\n",
            "11           Chilli     40.000    40.000      40.000\n",
            "12          Beetroot    18.750    18.750      18.750\n",
            "13           Cabbage     8.125     8.125       8.125\n",
            "14       Cauliflower    11.875    15.000      15.625\n",
            "15        Sweet Corn    90.000    90.000      90.000\n",
            "16           Brinjal    36.250    36.250      36.250\n",
            "17            Ginger    32.500    32.500      32.500\n",
            "18             Lemon    62.500    62.500      62.500\n",
            "19      Bottle Gourd    15.000    15.000      15.000\n",
            "20       Ridge Gourd    52.500    56.250      56.250\n",
            "21            Radish    20.000    22.500      22.500\n",
            "22             Palak    52.500    52.500      50.000\n",
            "23            Turnip    77.500    50.000      50.000\n",
            "24           Coconut    18.125    20.000      20.000\n",
            "25      Curry Leaves    93.750    93.750      75.000\n",
            "26            Garlic   162.500   162.500     162.500\n",
            "27            Banana    28.750    20.000      20.000\n",
            "28       Snake Gourd    32.500    27.500      27.500\n",
            "29      Sweet Potato    36.250    36.250      36.250\n",
            "30               Yam    48.750    47.500      47.500\n",
            "31        Green Peas    28.120    30.000      30.000\n",
            "32      Spring Onion    93.750    93.750      93.750\n",
            "33         Ash Gourd    43.750    37.500      37.500\n",
            "34         Chow Chow    12.500    12.500      12.500\n",
            "35          Broccoli   150.000   146.875     146.875\n",
            "36             Methi    75.000    75.000      75.000\n",
            "37       Mint Leaves    75.000    75.000      62.500\n",
            "38          Coccinia    37.500    42.500      45.000\n",
            "39              Amla   100.000   100.000      95.000\n",
            "40             Beans    62.500    62.500      62.500\n",
            "41         Colocasia    40.000    35.000      35.000\n",
            "42           Tapioca    30.000    32.500      32.500\n",
            "43         Baby Corn    40.000    40.000      40.000\n",
            "44        Amaranthus    62.500    50.000      57.500\n",
            "45         Knol Khol    22.500    22.500      22.500\n",
            "46    Gongura Leaves    62.500    62.500      62.500\n"
          ],
          "name": "stdout"
        }
      ]
    },
    {
      "cell_type": "code",
      "metadata": {
        "id": "EL36Kr7uF6sq"
      },
      "source": [
        "10000127, 20000745, 10000176, 10000166, 10000188, 10000205, 10000093, 10000104, 50000507, 10000168, 40040312, 10000194, 40050085, 10000283, 20000981, 40050704, 10000087, 40016101, 20000974, 10000137, 10000091, 10000293, 10000044, 10000095, 10000049, 10000197, 40023471, 20000926, 10000001, 50000521, 20000753"
      ],
      "execution_count": null,
      "outputs": []
    },
    {
      "cell_type": "code",
      "metadata": {
        "id": "tucocksxWEJX"
      },
      "source": [
        "10000110, 10000097, 10000082, 10000046, 10000066, 10000074, 40006608, 50000469, 10000118"
      ],
      "execution_count": null,
      "outputs": []
    },
    {
      "cell_type": "markdown",
      "metadata": {
        "id": "nKKaX7d6G7Pg"
      },
      "source": [
        "**Temp code**"
      ]
    },
    {
      "cell_type": "markdown",
      "metadata": {
        "id": "YLEG8cv5d2uw"
      },
      "source": [
        "Weather code"
      ]
    },
    {
      "cell_type": "code",
      "metadata": {
        "colab": {
          "base_uri": "https://localhost:8080/"
        },
        "id": "5azFKwJ2eCFA",
        "outputId": "ee9fad7f-7848-4a71-9d80-059f20952c08"
      },
      "source": [
        "!pip install pyowm"
      ],
      "execution_count": null,
      "outputs": [
        {
          "output_type": "stream",
          "text": [
            "Collecting pyowm\n",
            "\u001b[?25l  Downloading https://files.pythonhosted.org/packages/41/2a/83e26bc87763d0d34767ddc5c875608d4a0a0da66e59730a15c55aec6eff/pyowm-2.10.0-py3-none-any.whl (3.7MB)\n",
            "\u001b[K     |████████████████████████████████| 3.8MB 9.6MB/s \n",
            "\u001b[?25hCollecting geojson<3,>=2.3.0\n",
            "  Downloading https://files.pythonhosted.org/packages/e4/8d/9e28e9af95739e6d2d2f8d4bef0b3432da40b7c3588fbad4298c1be09e48/geojson-2.5.0-py2.py3-none-any.whl\n",
            "Requirement already satisfied: requests<3,>=2.20.0 in /usr/local/lib/python3.6/dist-packages (from pyowm) (2.23.0)\n",
            "Requirement already satisfied: chardet<4,>=3.0.2 in /usr/local/lib/python3.6/dist-packages (from requests<3,>=2.20.0->pyowm) (3.0.4)\n",
            "Requirement already satisfied: urllib3!=1.25.0,!=1.25.1,<1.26,>=1.21.1 in /usr/local/lib/python3.6/dist-packages (from requests<3,>=2.20.0->pyowm) (1.24.3)\n",
            "Requirement already satisfied: idna<3,>=2.5 in /usr/local/lib/python3.6/dist-packages (from requests<3,>=2.20.0->pyowm) (2.10)\n",
            "Requirement already satisfied: certifi>=2017.4.17 in /usr/local/lib/python3.6/dist-packages (from requests<3,>=2.20.0->pyowm) (2020.12.5)\n",
            "Installing collected packages: geojson, pyowm\n",
            "Successfully installed geojson-2.5.0 pyowm-2.10.0\n"
          ],
          "name": "stdout"
        }
      ]
    },
    {
      "cell_type": "code",
      "metadata": {
        "colab": {
          "base_uri": "https://localhost:8080/"
        },
        "id": "nlBovaY5G6lF",
        "outputId": "8c83c73a-0f46-407d-fefb-33f652aeea0d"
      },
      "source": [
        "import pyowm\n",
        " \n",
        "owm = pyowm.OWM('f5b6e1329423db53a8adebac5e1d272a')\n",
        "obs = owm.weather_at_place(\"Bengaluru,IN\")\n",
        "w = obs.get_weather()\n",
        "weather = {'cloud_coverage': w.get_clouds(), 'wind': w.get_wind(), 'humidity': w.get_humidity(),\n",
        "           'temp': w.get_temperature(unit='celsius')}\n",
        "cloud_coverage = ''\n",
        "wind_speed = weather['wind']['speed']\n",
        "humidity = weather['humidity']\n",
        "temp_cur = weather['temp']['temp']\n",
        "temp_max = weather['temp']['temp_max']\n",
        "temp_min = weather['temp']['temp_min']\n",
        "if weather['cloud_coverage'] in range(0, 10):\n",
        "    cloud_coverage = 'clear sky'\n",
        "elif weather['cloud_coverage'] in range(11, 50):\n",
        "    cloud_coverage = 'scattered clouds'\n",
        "elif weather['cloud_coverage'] in range(51, 90):\n",
        "    cloud_coverage = 'broken clouds'\n",
        "elif weather['cloud_coverage'] in range(91, 100):\n",
        "    cloud_coverage = 'overcast clouds'\n",
        " \n",
        "print('The weather in Bengaluru is ' + str(round(temp_cur)) + ' degrees with ' + cloud_coverage.capitalize() +'. It is ' + str(humidity) + '% humid with a wind speed of ' + str(wind_speed) + ' MpH')\n",
        "print(weather)"
      ],
      "execution_count": null,
      "outputs": [
        {
          "output_type": "stream",
          "text": [
            "The weather in Bengaluru is 24 degrees with Scattered clouds. It is 56% humid with a wind speed of 2.06 MpH\n",
            "{'cloud_coverage': 20, 'wind': {'speed': 2.06, 'deg': 90}, 'humidity': 56, 'temp': {'temp': 23.7, 'temp_max': 25.0, 'temp_min': 22.0, 'temp_kf': None}}\n"
          ],
          "name": "stdout"
        }
      ]
    }
  ]
}