{
  "nbformat": 4,
  "nbformat_minor": 0,
  "metadata": {
    "colab": {
      "name": "Business Logic",
      "provenance": [],
      "collapsed_sections": [],
      "include_colab_link": true
    },
    "kernelspec": {
      "name": "python3",
      "display_name": "Python 3"
    },
    "language_info": {
      "name": "python"
    }
  },
  "cells": [
    {
      "cell_type": "markdown",
      "metadata": {
        "id": "view-in-github",
        "colab_type": "text"
      },
      "source": [
        "<a href=\"https://colab.research.google.com/github/PranavPutsa1006/Aahaar/blob/main/Business_Logic.ipynb\" target=\"_parent\"><img src=\"https://colab.research.google.com/assets/colab-badge.svg\" alt=\"Open In Colab\"/></a>"
      ]
    },
    {
      "cell_type": "code",
      "metadata": {
        "id": "jhwuYb78R6kE"
      },
      "source": [
        "df = pandas.read_csv(csvfile)\n",
        "df.to_sql(, conn, if_exists='append', index=False)"
      ],
      "execution_count": null,
      "outputs": []
    },
    {
      "cell_type": "code",
      "metadata": {
        "id": "3YQL-gdiSHeQ"
      },
      "source": [
        ""
      ],
      "execution_count": null,
      "outputs": []
    },
    {
      "cell_type": "code",
      "metadata": {
        "colab": {
          "base_uri": "https://localhost:8080/"
        },
        "id": "gj94G4poMTUY",
        "outputId": "6737af61-15fd-4901-92db-3584056735cb"
      },
      "source": [
        "import sqlite3\n",
        "conn = sqlite3.connect('db.sqlite3')\n",
        "conn.execute(\"CREATE TABLE Predict( Date TEXT PRIMARY KEY,c_1REAL DEFAULT 0, c_2REAL DEFAULT 0, c_3REAL DEFAULT 0, c_4REAL DEFAULT 0, c_5REAL DEFAULT 0, c_6REAL DEFAULT 0, c_7REAL DEFAULT 0, c_8REAL DEFAULT 0, c_9REAL DEFAULT 0, c_10REAL DEFAULT 0, c_11REAL DEFAULT 0, c_12REAL DEFAULT 0, c_13REAL DEFAULT 0, c_14REAL DEFAULT 0, c_15REAL DEFAULT 0, c_16REAL DEFAULT 0, c_17REAL DEFAULT 0, c_18REAL DEFAULT 0, c_19REAL DEFAULT 0, c_20REAL DEFAULT 0, c_21REAL DEFAULT 0, c_22REAL DEFAULT 0, c_23REAL DEFAULT 0, c_24REAL DEFAULT 0, c_25REAL DEFAULT 0, c_26REAL DEFAULT 0, c_27REAL DEFAULT 0, c_28REAL DEFAULT 0, c_29REAL DEFAULT 0, c_30REAL DEFAULT 0, c_31REAL DEFAULT 0, c_32REAL DEFAULT 0, c_33REAL DEFAULT 0, c_34REAL DEFAULT 0, c_35REAL DEFAULT 0, c_36REAL DEFAULT 0, c_37REAL DEFAULT 0, c_38REAL DEFAULT 0, c_39REAL DEFAULT 0, c_40REAL DEFAULT 0, c_41REAL DEFAULT 0, c_42REAL DEFAULT 0, c_43REAL DEFAULT 0, c_44REAL DEFAULT 0, c_45REAL DEFAULT 0);\")\n",
        "# for row in cursor:\n",
        "#     print(row)"
      ],
      "execution_count": null,
      "outputs": [
        {
          "output_type": "execute_result",
          "data": {
            "text/plain": [
              "<sqlite3.Cursor at 0x7f547ff45880>"
            ]
          },
          "metadata": {
            "tags": []
          },
          "execution_count": 47
        }
      ]
    },
    {
      "cell_type": "code",
      "metadata": {
        "colab": {
          "base_uri": "https://localhost:8080/",
          "height": 282
        },
        "id": "-lKnwomvblF0",
        "outputId": "bf571347-067b-4be6-b91d-4b2017b6e58b"
      },
      "source": [
        "import csv\n",
        "with open('aahaar_dataset.csv','r') as fin: # `with` statement available in 2.5+\n",
        "    # csv.DictReader uses first line in file for column headings by default\n",
        "    dr = csv.DictReader(fin) # comma is default delimiter\n",
        "    to_db = [(i['col1'], i['col2']) for i in dr]"
      ],
      "execution_count": null,
      "outputs": [
        {
          "output_type": "error",
          "ename": "KeyError",
          "evalue": "ignored",
          "traceback": [
            "\u001b[0;31m---------------------------------------------------------------------------\u001b[0m",
            "\u001b[0;31mKeyError\u001b[0m                                  Traceback (most recent call last)",
            "\u001b[0;32m<ipython-input-49-928fd9de2ccb>\u001b[0m in \u001b[0;36m<module>\u001b[0;34m()\u001b[0m\n\u001b[1;32m      3\u001b[0m     \u001b[0;31m# csv.DictReader uses first line in file for column headings by default\u001b[0m\u001b[0;34m\u001b[0m\u001b[0;34m\u001b[0m\u001b[0;34m\u001b[0m\u001b[0m\n\u001b[1;32m      4\u001b[0m     \u001b[0mdr\u001b[0m \u001b[0;34m=\u001b[0m \u001b[0mcsv\u001b[0m\u001b[0;34m.\u001b[0m\u001b[0mDictReader\u001b[0m\u001b[0;34m(\u001b[0m\u001b[0mfin\u001b[0m\u001b[0;34m)\u001b[0m \u001b[0;31m# comma is default delimiter\u001b[0m\u001b[0;34m\u001b[0m\u001b[0;34m\u001b[0m\u001b[0m\n\u001b[0;32m----> 5\u001b[0;31m     \u001b[0mto_db\u001b[0m \u001b[0;34m=\u001b[0m \u001b[0;34m[\u001b[0m\u001b[0;34m(\u001b[0m\u001b[0mi\u001b[0m\u001b[0;34m[\u001b[0m\u001b[0;34m'col1'\u001b[0m\u001b[0;34m]\u001b[0m\u001b[0;34m,\u001b[0m \u001b[0mi\u001b[0m\u001b[0;34m[\u001b[0m\u001b[0;34m'col2'\u001b[0m\u001b[0;34m]\u001b[0m\u001b[0;34m)\u001b[0m \u001b[0;32mfor\u001b[0m \u001b[0mi\u001b[0m \u001b[0;32min\u001b[0m \u001b[0mdr\u001b[0m\u001b[0;34m]\u001b[0m\u001b[0;34m\u001b[0m\u001b[0;34m\u001b[0m\u001b[0m\n\u001b[0m",
            "\u001b[0;32m<ipython-input-49-928fd9de2ccb>\u001b[0m in \u001b[0;36m<listcomp>\u001b[0;34m(.0)\u001b[0m\n\u001b[1;32m      3\u001b[0m     \u001b[0;31m# csv.DictReader uses first line in file for column headings by default\u001b[0m\u001b[0;34m\u001b[0m\u001b[0;34m\u001b[0m\u001b[0;34m\u001b[0m\u001b[0m\n\u001b[1;32m      4\u001b[0m     \u001b[0mdr\u001b[0m \u001b[0;34m=\u001b[0m \u001b[0mcsv\u001b[0m\u001b[0;34m.\u001b[0m\u001b[0mDictReader\u001b[0m\u001b[0;34m(\u001b[0m\u001b[0mfin\u001b[0m\u001b[0;34m)\u001b[0m \u001b[0;31m# comma is default delimiter\u001b[0m\u001b[0;34m\u001b[0m\u001b[0;34m\u001b[0m\u001b[0m\n\u001b[0;32m----> 5\u001b[0;31m     \u001b[0mto_db\u001b[0m \u001b[0;34m=\u001b[0m \u001b[0;34m[\u001b[0m\u001b[0;34m(\u001b[0m\u001b[0mi\u001b[0m\u001b[0;34m[\u001b[0m\u001b[0;34m'col1'\u001b[0m\u001b[0;34m]\u001b[0m\u001b[0;34m,\u001b[0m \u001b[0mi\u001b[0m\u001b[0;34m[\u001b[0m\u001b[0;34m'col2'\u001b[0m\u001b[0;34m]\u001b[0m\u001b[0;34m)\u001b[0m \u001b[0;32mfor\u001b[0m \u001b[0mi\u001b[0m \u001b[0;32min\u001b[0m \u001b[0mdr\u001b[0m\u001b[0;34m]\u001b[0m\u001b[0;34m\u001b[0m\u001b[0;34m\u001b[0m\u001b[0m\n\u001b[0m",
            "\u001b[0;31mKeyError\u001b[0m: 'col1'"
          ]
        }
      ]
    },
    {
      "cell_type": "code",
      "metadata": {
        "colab": {
          "base_uri": "https://localhost:8080/",
          "height": 377
        },
        "id": "uqi47S9GP6WZ",
        "outputId": "3d3cfe26-4b81-44c4-862a-4c215db47e43"
      },
      "source": [
        " df1=pd.read_csv('aahaar_dataset.csv', parse_dates=[\"Date\"], dayfirst=True)\n",
        " df1.head()"
      ],
      "execution_count": null,
      "outputs": [
        {
          "output_type": "execute_result",
          "data": {
            "text/html": [
              "<div>\n",
              "<style scoped>\n",
              "    .dataframe tbody tr th:only-of-type {\n",
              "        vertical-align: middle;\n",
              "    }\n",
              "\n",
              "    .dataframe tbody tr th {\n",
              "        vertical-align: top;\n",
              "    }\n",
              "\n",
              "    .dataframe thead th {\n",
              "        text-align: right;\n",
              "    }\n",
              "</style>\n",
              "<table border=\"1\" class=\"dataframe\">\n",
              "  <thead>\n",
              "    <tr style=\"text-align: right;\">\n",
              "      <th></th>\n",
              "      <th>Date</th>\n",
              "      <th>Onion</th>\n",
              "      <th>Tomato</th>\n",
              "      <th>Capsicum</th>\n",
              "      <th>Carrot</th>\n",
              "      <th>Ladies Finger</th>\n",
              "      <th>Pumpkin Green</th>\n",
              "      <th>Cucumber</th>\n",
              "      <th>Potato</th>\n",
              "      <th>Drumstick</th>\n",
              "      <th>Coriander Leaves</th>\n",
              "      <th>Beetroot</th>\n",
              "      <th>Cabbage</th>\n",
              "      <th>Cauliflower</th>\n",
              "      <th>Sweet Corn</th>\n",
              "      <th>Brinjal</th>\n",
              "      <th>Bottle Gourd</th>\n",
              "      <th>Ridge Gourd</th>\n",
              "      <th>Radish</th>\n",
              "      <th>Palak</th>\n",
              "      <th>Turnip</th>\n",
              "      <th>Sweet Potato</th>\n",
              "      <th>Yam</th>\n",
              "      <th>Green Peas</th>\n",
              "      <th>Ash Gourd/ Ash Pumpkin</th>\n",
              "      <th>Chow Chow</th>\n",
              "      <th>Coccinia</th>\n",
              "      <th>Beans</th>\n",
              "      <th>Baby Corn</th>\n",
              "      <th>Knol Khol</th>\n",
              "      <th>Toor Dal</th>\n",
              "      <th>Whole Moong</th>\n",
              "      <th>Channa Dal</th>\n",
              "      <th>Brown Chana</th>\n",
              "      <th>Sona Masoori Raw Rice</th>\n",
              "      <th>Wheat Flour 10kg</th>\n",
              "      <th>Paneer</th>\n",
              "      <th>Soya Chunks</th>\n",
              "      <th>Wheat - Whole, 5 kg Bag</th>\n",
              "      <th>Masoor Dal</th>\n",
              "      <th>White lobia</th>\n",
              "      <th>Moong Dal(2kg)</th>\n",
              "      <th>Urad Dal</th>\n",
              "      <th>Rajma</th>\n",
              "      <th>Peanuts</th>\n",
              "      <th>Horse Gram</th>\n",
              "    </tr>\n",
              "  </thead>\n",
              "  <tbody>\n",
              "    <tr>\n",
              "      <th>0</th>\n",
              "      <td>2021-01-01</td>\n",
              "      <td>5.60</td>\n",
              "      <td>2.600</td>\n",
              "      <td>7.4</td>\n",
              "      <td>6.4</td>\n",
              "      <td>7.0</td>\n",
              "      <td>8.40</td>\n",
              "      <td>4.00</td>\n",
              "      <td>5.6</td>\n",
              "      <td>NaN</td>\n",
              "      <td>NaN</td>\n",
              "      <td>NaN</td>\n",
              "      <td>NaN</td>\n",
              "      <td>NaN</td>\n",
              "      <td>NaN</td>\n",
              "      <td>NaN</td>\n",
              "      <td>NaN</td>\n",
              "      <td>NaN</td>\n",
              "      <td>NaN</td>\n",
              "      <td>NaN</td>\n",
              "      <td>NaN</td>\n",
              "      <td>NaN</td>\n",
              "      <td>NaN</td>\n",
              "      <td>NaN</td>\n",
              "      <td>NaN</td>\n",
              "      <td>NaN</td>\n",
              "      <td>NaN</td>\n",
              "      <td>NaN</td>\n",
              "      <td>NaN</td>\n",
              "      <td>NaN</td>\n",
              "      <td>NaN</td>\n",
              "      <td>NaN</td>\n",
              "      <td>NaN</td>\n",
              "      <td>NaN</td>\n",
              "      <td>NaN</td>\n",
              "      <td>NaN</td>\n",
              "      <td>NaN</td>\n",
              "      <td>NaN</td>\n",
              "      <td>NaN</td>\n",
              "      <td>NaN</td>\n",
              "      <td>NaN</td>\n",
              "      <td>NaN</td>\n",
              "      <td>NaN</td>\n",
              "      <td>NaN</td>\n",
              "      <td>NaN</td>\n",
              "      <td>NaN</td>\n",
              "    </tr>\n",
              "    <tr>\n",
              "      <th>1</th>\n",
              "      <td>2021-01-02</td>\n",
              "      <td>6.00</td>\n",
              "      <td>2.600</td>\n",
              "      <td>7.4</td>\n",
              "      <td>6.4</td>\n",
              "      <td>7.0</td>\n",
              "      <td>8.40</td>\n",
              "      <td>4.00</td>\n",
              "      <td>6.0</td>\n",
              "      <td>NaN</td>\n",
              "      <td>NaN</td>\n",
              "      <td>NaN</td>\n",
              "      <td>NaN</td>\n",
              "      <td>NaN</td>\n",
              "      <td>NaN</td>\n",
              "      <td>NaN</td>\n",
              "      <td>NaN</td>\n",
              "      <td>NaN</td>\n",
              "      <td>NaN</td>\n",
              "      <td>NaN</td>\n",
              "      <td>NaN</td>\n",
              "      <td>NaN</td>\n",
              "      <td>NaN</td>\n",
              "      <td>NaN</td>\n",
              "      <td>NaN</td>\n",
              "      <td>NaN</td>\n",
              "      <td>NaN</td>\n",
              "      <td>NaN</td>\n",
              "      <td>NaN</td>\n",
              "      <td>NaN</td>\n",
              "      <td>NaN</td>\n",
              "      <td>NaN</td>\n",
              "      <td>NaN</td>\n",
              "      <td>NaN</td>\n",
              "      <td>NaN</td>\n",
              "      <td>NaN</td>\n",
              "      <td>NaN</td>\n",
              "      <td>NaN</td>\n",
              "      <td>NaN</td>\n",
              "      <td>NaN</td>\n",
              "      <td>NaN</td>\n",
              "      <td>NaN</td>\n",
              "      <td>NaN</td>\n",
              "      <td>NaN</td>\n",
              "      <td>NaN</td>\n",
              "      <td>NaN</td>\n",
              "    </tr>\n",
              "    <tr>\n",
              "      <th>2</th>\n",
              "      <td>2021-01-03</td>\n",
              "      <td>5.60</td>\n",
              "      <td>2.400</td>\n",
              "      <td>7.4</td>\n",
              "      <td>6.4</td>\n",
              "      <td>6.8</td>\n",
              "      <td>8.40</td>\n",
              "      <td>4.00</td>\n",
              "      <td>5.6</td>\n",
              "      <td>NaN</td>\n",
              "      <td>NaN</td>\n",
              "      <td>NaN</td>\n",
              "      <td>NaN</td>\n",
              "      <td>NaN</td>\n",
              "      <td>NaN</td>\n",
              "      <td>NaN</td>\n",
              "      <td>NaN</td>\n",
              "      <td>NaN</td>\n",
              "      <td>NaN</td>\n",
              "      <td>NaN</td>\n",
              "      <td>NaN</td>\n",
              "      <td>NaN</td>\n",
              "      <td>NaN</td>\n",
              "      <td>NaN</td>\n",
              "      <td>NaN</td>\n",
              "      <td>NaN</td>\n",
              "      <td>NaN</td>\n",
              "      <td>NaN</td>\n",
              "      <td>NaN</td>\n",
              "      <td>NaN</td>\n",
              "      <td>NaN</td>\n",
              "      <td>NaN</td>\n",
              "      <td>NaN</td>\n",
              "      <td>NaN</td>\n",
              "      <td>NaN</td>\n",
              "      <td>NaN</td>\n",
              "      <td>NaN</td>\n",
              "      <td>NaN</td>\n",
              "      <td>NaN</td>\n",
              "      <td>NaN</td>\n",
              "      <td>NaN</td>\n",
              "      <td>NaN</td>\n",
              "      <td>NaN</td>\n",
              "      <td>NaN</td>\n",
              "      <td>NaN</td>\n",
              "      <td>NaN</td>\n",
              "    </tr>\n",
              "    <tr>\n",
              "      <th>3</th>\n",
              "      <td>2021-01-04</td>\n",
              "      <td>5.50</td>\n",
              "      <td>2.626</td>\n",
              "      <td>7.5</td>\n",
              "      <td>6.5</td>\n",
              "      <td>5.5</td>\n",
              "      <td>3.75</td>\n",
              "      <td>2.50</td>\n",
              "      <td>5.0</td>\n",
              "      <td>NaN</td>\n",
              "      <td>NaN</td>\n",
              "      <td>NaN</td>\n",
              "      <td>NaN</td>\n",
              "      <td>NaN</td>\n",
              "      <td>NaN</td>\n",
              "      <td>NaN</td>\n",
              "      <td>NaN</td>\n",
              "      <td>NaN</td>\n",
              "      <td>NaN</td>\n",
              "      <td>NaN</td>\n",
              "      <td>NaN</td>\n",
              "      <td>NaN</td>\n",
              "      <td>NaN</td>\n",
              "      <td>NaN</td>\n",
              "      <td>NaN</td>\n",
              "      <td>NaN</td>\n",
              "      <td>NaN</td>\n",
              "      <td>NaN</td>\n",
              "      <td>NaN</td>\n",
              "      <td>NaN</td>\n",
              "      <td>NaN</td>\n",
              "      <td>NaN</td>\n",
              "      <td>NaN</td>\n",
              "      <td>NaN</td>\n",
              "      <td>NaN</td>\n",
              "      <td>NaN</td>\n",
              "      <td>NaN</td>\n",
              "      <td>NaN</td>\n",
              "      <td>NaN</td>\n",
              "      <td>NaN</td>\n",
              "      <td>NaN</td>\n",
              "      <td>NaN</td>\n",
              "      <td>NaN</td>\n",
              "      <td>NaN</td>\n",
              "      <td>NaN</td>\n",
              "      <td>NaN</td>\n",
              "    </tr>\n",
              "    <tr>\n",
              "      <th>4</th>\n",
              "      <td>2021-01-06</td>\n",
              "      <td>5.25</td>\n",
              "      <td>2.500</td>\n",
              "      <td>7.0</td>\n",
              "      <td>5.5</td>\n",
              "      <td>6.0</td>\n",
              "      <td>3.75</td>\n",
              "      <td>2.25</td>\n",
              "      <td>5.0</td>\n",
              "      <td>NaN</td>\n",
              "      <td>NaN</td>\n",
              "      <td>NaN</td>\n",
              "      <td>NaN</td>\n",
              "      <td>NaN</td>\n",
              "      <td>NaN</td>\n",
              "      <td>NaN</td>\n",
              "      <td>NaN</td>\n",
              "      <td>NaN</td>\n",
              "      <td>NaN</td>\n",
              "      <td>NaN</td>\n",
              "      <td>NaN</td>\n",
              "      <td>NaN</td>\n",
              "      <td>NaN</td>\n",
              "      <td>NaN</td>\n",
              "      <td>NaN</td>\n",
              "      <td>NaN</td>\n",
              "      <td>NaN</td>\n",
              "      <td>NaN</td>\n",
              "      <td>NaN</td>\n",
              "      <td>NaN</td>\n",
              "      <td>NaN</td>\n",
              "      <td>NaN</td>\n",
              "      <td>NaN</td>\n",
              "      <td>NaN</td>\n",
              "      <td>NaN</td>\n",
              "      <td>NaN</td>\n",
              "      <td>NaN</td>\n",
              "      <td>NaN</td>\n",
              "      <td>NaN</td>\n",
              "      <td>NaN</td>\n",
              "      <td>NaN</td>\n",
              "      <td>NaN</td>\n",
              "      <td>NaN</td>\n",
              "      <td>NaN</td>\n",
              "      <td>NaN</td>\n",
              "      <td>NaN</td>\n",
              "    </tr>\n",
              "  </tbody>\n",
              "</table>\n",
              "</div>"
            ],
            "text/plain": [
              "        Date  Onion  Tomato  Capsicum  ...  Urad Dal  Rajma  Peanuts  Horse Gram\n",
              "0 2021-01-01   5.60   2.600       7.4  ...       NaN    NaN      NaN         NaN\n",
              "1 2021-01-02   6.00   2.600       7.4  ...       NaN    NaN      NaN         NaN\n",
              "2 2021-01-03   5.60   2.400       7.4  ...       NaN    NaN      NaN         NaN\n",
              "3 2021-01-04   5.50   2.626       7.5  ...       NaN    NaN      NaN         NaN\n",
              "4 2021-01-06   5.25   2.500       7.0  ...       NaN    NaN      NaN         NaN\n",
              "\n",
              "[5 rows x 46 columns]"
            ]
          },
          "metadata": {
            "tags": []
          },
          "execution_count": 6
        }
      ]
    },
    {
      "cell_type": "code",
      "metadata": {
        "colab": {
          "base_uri": "https://localhost:8080/"
        },
        "id": "I9UIcGmjSqSm",
        "outputId": "cb6b0e74-060c-4d37-9cbe-13ba019c7583"
      },
      "source": [
        "df1.dtypes"
      ],
      "execution_count": null,
      "outputs": [
        {
          "output_type": "execute_result",
          "data": {
            "text/plain": [
              "Date                       datetime64[ns]\n",
              "Onion                             float64\n",
              "Tomato                            float64\n",
              "Capsicum                          float64\n",
              "Carrot                            float64\n",
              "Ladies Finger                     float64\n",
              "Pumpkin Green                     float64\n",
              "Cucumber                          float64\n",
              "Potato                            float64\n",
              "Drumstick                         float64\n",
              "Coriander Leaves                  float64\n",
              "Beetroot                          float64\n",
              "Cabbage                           float64\n",
              "Cauliflower                       float64\n",
              "Sweet Corn                        float64\n",
              "Brinjal                           float64\n",
              "Bottle Gourd                      float64\n",
              "Ridge Gourd                       float64\n",
              "Radish                            float64\n",
              "Palak                             float64\n",
              "Turnip                            float64\n",
              "Sweet Potato                      float64\n",
              "Yam                               float64\n",
              "Green Peas                        float64\n",
              "Ash Gourd/ Ash Pumpkin            float64\n",
              "Chow Chow                         float64\n",
              "Coccinia                          float64\n",
              "Beans                             float64\n",
              "Baby Corn                         float64\n",
              "Knol Khol                         float64\n",
              "Toor Dal                          float64\n",
              "Whole Moong                       float64\n",
              "Channa Dal                        float64\n",
              "Brown Chana                       float64\n",
              "Sona Masoori Raw Rice             float64\n",
              "Wheat Flour 10kg                  float64\n",
              "Paneer                            float64\n",
              "Soya Chunks                       float64\n",
              "Wheat - Whole, 5 kg Bag           float64\n",
              "Masoor Dal                        float64\n",
              "White lobia                       float64\n",
              "Moong Dal(2kg)                    float64\n",
              "Urad Dal                          float64\n",
              "Rajma                             float64\n",
              "Peanuts                           float64\n",
              "Horse Gram                        float64\n",
              "dtype: object"
            ]
          },
          "metadata": {
            "tags": []
          },
          "execution_count": 11
        }
      ]
    },
    {
      "cell_type": "code",
      "metadata": {
        "id": "wzfK-Y2sUtNx"
      },
      "source": [
        "CREATE TABLE [IF NOT EXISTS] Predict (\n",
        "   \tDate TEXT PRIMARY KEY,\n",
        "\tREAL DEFAULT 0,\n",
        "    Onion REAL DEFAULT 0,\n",
        "    Tomato REAL DEFAULT 0,\n",
        "    Capsicum REAL DEFAULT 0,\n",
        "     Carrot REAL DEFAULT 0, \n",
        "     Ladies Finger REAL DEFAULT 0, \n",
        "     Pumpkin Green REAL DEFAULT 0, \n",
        "     Cucumber REAL DEFAULT 0, \n",
        "     Potato REAL DEFAULT 0, \n",
        "     Drumstick REAL DEFAULT 0, \n",
        "     Coriander Leaves REAL DEFAULT 0, \n",
        "     Beetroot REAL DEFAULT 0, \n",
        "     Cabbage REAL DEFAULT 0, \n",
        "     Cauliflower REAL DEFAULT 0, \n",
        "     Sweet Corn REAL DEFAULT 0, \n",
        "     Brinjal REAL DEFAULT 0, \n",
        "     Bottle Gourd REAL DEFAULT 0, \n",
        "     Ridge Gourd REAL DEFAULT 0, \n",
        "     Radish REAL DEFAULT 0, \n",
        "     Palak REAL DEFAULT 0, Turnip REAL DEFAULT 0, Sweet Potato REAL DEFAULT 0, Yam REAL DEFAULT 0, Green Peas REAL DEFAULT 0, Ash Gourd/ Ash Pumpkin REAL DEFAULT 0, Chow Chow REAL DEFAULT 0, Coccinia REAL DEFAULT 0, Beans REAL DEFAULT 0, Baby Corn REAL DEFAULT 0, Knol Khol REAL DEFAULT 0, Toor Dal REAL DEFAULT 0, Whole Moong REAL DEFAULT 0, Channa Dal REAL DEFAULT 0, Brown Chana REAL DEFAULT 0, Sona Masoori Raw Rice REAL DEFAULT 0, Wheat Flour 10kg REAL DEFAULT 0, Paneer REAL DEFAULT 0, Soya Chunks REAL DEFAULT 0, Wheat - Whole, 5 kg Bag REAL DEFAULT 0, Masoor Dal REAL DEFAULT 0, White lobia REAL DEFAULT 0, Moong Dal(2kg) REAL DEFAULT 0, Urad Dal REAL DEFAULT 0, Rajma REAL DEFAULT 0, Peanuts REAL DEFAULT 0, Horse Gram REAL DEFAULT 0\n",
        ") [WITHOUT ROWID];"
      ],
      "execution_count": null,
      "outputs": []
    },
    {
      "cell_type": "code",
      "metadata": {
        "colab": {
          "base_uri": "https://localhost:8080/"
        },
        "id": "U2ivqpqnUIbK",
        "outputId": "0c814077-6baf-4a55-ec3f-42fe1e335a4c"
      },
      "source": [
        "l=[]\n",
        "j=0\n",
        "for i in df1.columns:\n",
        "    l.append('c_'+str(j)+'REAL DEFAULT 0')\n",
        "    j=j+1\n",
        "print ( '[%s]' % ', '.join(map(str, l)))"
      ],
      "execution_count": null,
      "outputs": [
        {
          "output_type": "stream",
          "text": [
            "[c_0REAL DEFAULT 0, c_1REAL DEFAULT 0, c_2REAL DEFAULT 0, c_3REAL DEFAULT 0, c_4REAL DEFAULT 0, c_5REAL DEFAULT 0, c_6REAL DEFAULT 0, c_7REAL DEFAULT 0, c_8REAL DEFAULT 0, c_9REAL DEFAULT 0, c_10REAL DEFAULT 0, c_11REAL DEFAULT 0, c_12REAL DEFAULT 0, c_13REAL DEFAULT 0, c_14REAL DEFAULT 0, c_15REAL DEFAULT 0, c_16REAL DEFAULT 0, c_17REAL DEFAULT 0, c_18REAL DEFAULT 0, c_19REAL DEFAULT 0, c_20REAL DEFAULT 0, c_21REAL DEFAULT 0, c_22REAL DEFAULT 0, c_23REAL DEFAULT 0, c_24REAL DEFAULT 0, c_25REAL DEFAULT 0, c_26REAL DEFAULT 0, c_27REAL DEFAULT 0, c_28REAL DEFAULT 0, c_29REAL DEFAULT 0, c_30REAL DEFAULT 0, c_31REAL DEFAULT 0, c_32REAL DEFAULT 0, c_33REAL DEFAULT 0, c_34REAL DEFAULT 0, c_35REAL DEFAULT 0, c_36REAL DEFAULT 0, c_37REAL DEFAULT 0, c_38REAL DEFAULT 0, c_39REAL DEFAULT 0, c_40REAL DEFAULT 0, c_41REAL DEFAULT 0, c_42REAL DEFAULT 0, c_43REAL DEFAULT 0, c_44REAL DEFAULT 0, c_45REAL DEFAULT 0]\n"
          ],
          "name": "stdout"
        }
      ]
    },
    {
      "cell_type": "code",
      "metadata": {
        "colab": {
          "base_uri": "https://localhost:8080/",
          "height": 204
        },
        "id": "ImAm64whMTQ_",
        "outputId": "be465751-c4c2-4ef7-dbc1-77a56e48d26f"
      },
      "source": [
        "df=pd.read_csv('aahaar_dataset.csv', parse_dates=[\"Date\"], dayfirst=True, usecols=[0,5])\n",
        "df.head()"
      ],
      "execution_count": null,
      "outputs": [
        {
          "output_type": "execute_result",
          "data": {
            "text/html": [
              "<div>\n",
              "<style scoped>\n",
              "    .dataframe tbody tr th:only-of-type {\n",
              "        vertical-align: middle;\n",
              "    }\n",
              "\n",
              "    .dataframe tbody tr th {\n",
              "        vertical-align: top;\n",
              "    }\n",
              "\n",
              "    .dataframe thead th {\n",
              "        text-align: right;\n",
              "    }\n",
              "</style>\n",
              "<table border=\"1\" class=\"dataframe\">\n",
              "  <thead>\n",
              "    <tr style=\"text-align: right;\">\n",
              "      <th></th>\n",
              "      <th>Date</th>\n",
              "      <th>Ladies Finger</th>\n",
              "    </tr>\n",
              "  </thead>\n",
              "  <tbody>\n",
              "    <tr>\n",
              "      <th>0</th>\n",
              "      <td>2021-01-01</td>\n",
              "      <td>7.0</td>\n",
              "    </tr>\n",
              "    <tr>\n",
              "      <th>1</th>\n",
              "      <td>2021-01-02</td>\n",
              "      <td>7.0</td>\n",
              "    </tr>\n",
              "    <tr>\n",
              "      <th>2</th>\n",
              "      <td>2021-01-03</td>\n",
              "      <td>6.8</td>\n",
              "    </tr>\n",
              "    <tr>\n",
              "      <th>3</th>\n",
              "      <td>2021-01-04</td>\n",
              "      <td>5.5</td>\n",
              "    </tr>\n",
              "    <tr>\n",
              "      <th>4</th>\n",
              "      <td>2021-01-06</td>\n",
              "      <td>6.0</td>\n",
              "    </tr>\n",
              "  </tbody>\n",
              "</table>\n",
              "</div>"
            ],
            "text/plain": [
              "        Date  Ladies Finger\n",
              "0 2021-01-01            7.0\n",
              "1 2021-01-02            7.0\n",
              "2 2021-01-03            6.8\n",
              "3 2021-01-04            5.5\n",
              "4 2021-01-06            6.0"
            ]
          },
          "metadata": {
            "tags": []
          },
          "execution_count": 8
        }
      ]
    },
    {
      "cell_type": "code",
      "metadata": {
        "id": "skgK1Pr1P6Tb"
      },
      "source": [
        ""
      ],
      "execution_count": null,
      "outputs": []
    },
    {
      "cell_type": "code",
      "metadata": {
        "id": "XiYem3DEFtvi",
        "colab": {
          "base_uri": "https://localhost:8080/"
        },
        "outputId": "b249ae2d-0d04-4317-e015-caa5a1da2c62"
      },
      "source": [
        "try:\n",
        "    from prophet import Prophet\n",
        "except:\n",
        "    !pip install pystan==2.19.1.1\n",
        "    !pip install prophet\n",
        "    from prophet import Prophet\n",
        "import pandas as pd\n",
        "from google.colab import files\n",
        "from tqdm import tqdm\n",
        "from time import sleep\n",
        "from prophet.plot import plot_plotly, plot_components_plotly\n",
        "import warnings\n",
        "warnings.filterwarnings(\"ignore\")"
      ],
      "execution_count": null,
      "outputs": [
        {
          "output_type": "stream",
          "text": [
            "Requirement already satisfied: pystan==2.19.1.1 in /usr/local/lib/python3.7/dist-packages (2.19.1.1)\n",
            "Requirement already satisfied: numpy>=1.7 in /usr/local/lib/python3.7/dist-packages (from pystan==2.19.1.1) (1.19.5)\n",
            "Requirement already satisfied: Cython!=0.25.1,>=0.22 in /usr/local/lib/python3.7/dist-packages (from pystan==2.19.1.1) (0.29.22)\n",
            "Collecting prophet\n",
            "\u001b[?25l  Downloading https://files.pythonhosted.org/packages/f0/fa/c382f0ac5abe9f0a4df9d874a5e8843db035fe2f071b5c00a545b1e3c10b/prophet-1.0.1.tar.gz (65kB)\n",
            "\u001b[K     |████████████████████████████████| 71kB 7.6MB/s \n",
            "\u001b[?25hRequirement already satisfied: Cython>=0.22 in /usr/local/lib/python3.7/dist-packages (from prophet) (0.29.22)\n",
            "Collecting cmdstanpy==0.9.68\n",
            "\u001b[?25l  Downloading https://files.pythonhosted.org/packages/08/b9/b4f0938b38dbe775c4def707f525ab816b9d0215ecd8ab2d76780f4514f8/cmdstanpy-0.9.68-py3-none-any.whl (49kB)\n",
            "\u001b[K     |████████████████████████████████| 51kB 6.1MB/s \n",
            "\u001b[?25hRequirement already satisfied: pystan~=2.19.1.1 in /usr/local/lib/python3.7/dist-packages (from prophet) (2.19.1.1)\n",
            "Requirement already satisfied: numpy>=1.15.4 in /usr/local/lib/python3.7/dist-packages (from prophet) (1.19.5)\n",
            "Requirement already satisfied: pandas>=1.0.4 in /usr/local/lib/python3.7/dist-packages (from prophet) (1.1.5)\n",
            "Requirement already satisfied: matplotlib>=2.0.0 in /usr/local/lib/python3.7/dist-packages (from prophet) (3.2.2)\n",
            "Requirement already satisfied: LunarCalendar>=0.0.9 in /usr/local/lib/python3.7/dist-packages (from prophet) (0.0.9)\n",
            "Requirement already satisfied: convertdate>=2.1.2 in /usr/local/lib/python3.7/dist-packages (from prophet) (2.3.2)\n",
            "Requirement already satisfied: holidays>=0.10.2 in /usr/local/lib/python3.7/dist-packages (from prophet) (0.10.5.2)\n",
            "Requirement already satisfied: setuptools-git>=1.2 in /usr/local/lib/python3.7/dist-packages (from prophet) (1.2)\n",
            "Requirement already satisfied: python-dateutil>=2.8.0 in /usr/local/lib/python3.7/dist-packages (from prophet) (2.8.1)\n",
            "Requirement already satisfied: tqdm>=4.36.1 in /usr/local/lib/python3.7/dist-packages (from prophet) (4.41.1)\n",
            "Collecting ujson\n",
            "\u001b[?25l  Downloading https://files.pythonhosted.org/packages/17/4e/50e8e4cf5f00b537095711c2c86ac4d7191aed2b4fffd5a19f06898f6929/ujson-4.0.2-cp37-cp37m-manylinux1_x86_64.whl (179kB)\n",
            "\u001b[K     |████████████████████████████████| 184kB 34.0MB/s \n",
            "\u001b[?25hRequirement already satisfied: pytz>=2017.2 in /usr/local/lib/python3.7/dist-packages (from pandas>=1.0.4->prophet) (2018.9)\n",
            "Requirement already satisfied: pyparsing!=2.0.4,!=2.1.2,!=2.1.6,>=2.0.1 in /usr/local/lib/python3.7/dist-packages (from matplotlib>=2.0.0->prophet) (2.4.7)\n",
            "Requirement already satisfied: cycler>=0.10 in /usr/local/lib/python3.7/dist-packages (from matplotlib>=2.0.0->prophet) (0.10.0)\n",
            "Requirement already satisfied: kiwisolver>=1.0.1 in /usr/local/lib/python3.7/dist-packages (from matplotlib>=2.0.0->prophet) (1.3.1)\n",
            "Requirement already satisfied: ephem>=3.7.5.3 in /usr/local/lib/python3.7/dist-packages (from LunarCalendar>=0.0.9->prophet) (3.7.7.1)\n",
            "Requirement already satisfied: pymeeus<=1,>=0.3.13 in /usr/local/lib/python3.7/dist-packages (from convertdate>=2.1.2->prophet) (0.5.11)\n",
            "Requirement already satisfied: six in /usr/local/lib/python3.7/dist-packages (from holidays>=0.10.2->prophet) (1.15.0)\n",
            "Requirement already satisfied: korean-lunar-calendar in /usr/local/lib/python3.7/dist-packages (from holidays>=0.10.2->prophet) (0.2.1)\n",
            "Requirement already satisfied: hijri-converter in /usr/local/lib/python3.7/dist-packages (from holidays>=0.10.2->prophet) (2.1.1)\n",
            "Building wheels for collected packages: prophet\n",
            "  Building wheel for prophet (setup.py) ... \u001b[?25l\u001b[?25hdone\n",
            "  Created wheel for prophet: filename=prophet-1.0.1-cp37-none-any.whl size=6638838 sha256=0d076e5d60cc476c08e18a44483ccfee082d65f6f5645983a9f947b303c7898f\n",
            "  Stored in directory: /root/.cache/pip/wheels/92/1d/02/bc0a91bd3a84e060722075d2b0b68e875e37ec7dc49451d513\n",
            "Successfully built prophet\n",
            "\u001b[31mERROR: fbprophet 0.7.1 has requirement cmdstanpy==0.9.5, but you'll have cmdstanpy 0.9.68 which is incompatible.\u001b[0m\n",
            "Installing collected packages: ujson, cmdstanpy, prophet\n",
            "  Found existing installation: cmdstanpy 0.9.5\n",
            "    Uninstalling cmdstanpy-0.9.5:\n",
            "      Successfully uninstalled cmdstanpy-0.9.5\n",
            "Successfully installed cmdstanpy-0.9.68 prophet-1.0.1 ujson-4.0.2\n"
          ],
          "name": "stdout"
        }
      ]
    },
    {
      "cell_type": "code",
      "metadata": {
        "id": "9xvdq3Qppcmc",
        "colab": {
          "base_uri": "https://localhost:8080/"
        },
        "outputId": "61918232-fba1-4bde-dd51-d6010075623c"
      },
      "source": [
        "temp"
      ],
      "execution_count": null,
      "outputs": [
        {
          "output_type": "execute_result",
          "data": {
            "text/plain": [
              "{'Ash Gourd/ Ash Pumpkin': 9.299472156934486,\n",
              " 'Baby Corn': 8.194124067274092,\n",
              " 'Beans': 11.296391340109015,\n",
              " 'Beetroot': 2.955761392558508,\n",
              " 'Bottle Gourd': 1.8151645183848073,\n",
              " 'Brinjal': 7.56150087883431,\n",
              " 'Brown Chana': 13.0,\n",
              " 'Cabbage': 2.215172771813679,\n",
              " 'Capsicum': 6.626711636889051,\n",
              " 'Carrot': 4.616627736485039,\n",
              " 'Cauliflower': 2.591497030214832,\n",
              " 'Channa Dal': 14.749818858667584,\n",
              " 'Chow Chow': 6.186484998211662,\n",
              " 'Coccinia': 6.412522442774539,\n",
              " 'Coriander Leaves': 15.624145002924868,\n",
              " 'Cucumber': 2.4816506780972007,\n",
              " 'Drumstick': 9.580776958884426,\n",
              " 'Green Peas': 20.89776421212334,\n",
              " 'Horse Gram': 20.0,\n",
              " 'Knol Khol': 4.807892527385917,\n",
              " 'Ladies Finger': 3.0179234443085035,\n",
              " 'Masoor Dal': 16.0,\n",
              " 'Moong Dal(2kg)': 15.691386577307963,\n",
              " 'Onion': 2.8303616501056177,\n",
              " 'Palak': 12.757680790765331,\n",
              " 'Paneer': 52.798492160329666,\n",
              " 'Peanuts': 22.0,\n",
              " 'Potato': 3.0665611885460846,\n",
              " 'Pumpkin Green': 4.551552671440797,\n",
              " 'Radish': 4.471592953865878,\n",
              " 'Rajma': 20.0,\n",
              " 'Ridge Gourd': 7.0854527672153065,\n",
              " 'Sona Masoori Raw Rice': 20.313586592532786,\n",
              " 'Soya Chunks': 17.5,\n",
              " 'Sweet Corn': 18.0,\n",
              " 'Sweet Potato': 5.133131825365572,\n",
              " 'Tomato': 1.1713601475928244,\n",
              " 'Toor Dal': 5.647580887407367,\n",
              " 'Turnip': 13.689193002851411,\n",
              " 'Urad Dal': 20.0,\n",
              " 'Wheat - Whole, 5 kg Bag': -5.415253618477231,\n",
              " 'Wheat Flour 10kg': -1.6419127501757593,\n",
              " 'White lobia': 16.9,\n",
              " 'Whole Moong': 18.0,\n",
              " 'Yam': 10.039881357471733}"
            ]
          },
          "metadata": {
            "tags": []
          },
          "execution_count": 8
        }
      ]
    },
    {
      "cell_type": "code",
      "metadata": {
        "colab": {
          "base_uri": "https://localhost:8080/"
        },
        "id": "TDdyZ2S1_N0l",
        "outputId": "2fcf4e43-179f-4e2e-cced-8c39ff6e417d"
      },
      "source": [
        "temp={'Onion': 2.8303616501056177, 'Tomato': 1.1713601475928244, 'Capsicum': 6.626711636889051, 'Carrot': 4.616627736485039, 'Ladies Finger': 3.0179234443085035, 'Pumpkin Green': 4.551552671440797, 'Cucumber': 2.4816506780972007, 'Potato': 3.0665611885460846, 'Drumstick': 9.580776958884426, 'Coriander Leaves': 15.624145002924868, 'Beetroot': 2.955761392558508, 'Cabbage': 2.215172771813679, 'Cauliflower': 2.591497030214832, 'Sweet Corn': 18.0, 'Brinjal': 7.56150087883431, 'Bottle Gourd': 1.8151645183848073, 'Ridge Gourd': 7.0854527672153065, 'Radish': 4.471592953865878, 'Palak': 12.757680790765331, 'Turnip': 13.689193002851411, 'Sweet Potato': 5.133131825365572, 'Yam': 10.039881357471733, 'Green Peas': 20.89776421212334, 'Ash Gourd/ Ash Pumpkin': 9.299472156934486, 'Chow Chow': 6.186484998211662, 'Coccinia': 6.412522442774539, 'Beans': 11.296391340109015, 'Baby Corn': 8.194124067274092, 'Knol Khol': 4.807892527385917, 'Toor Dal': 5.647580887407367, 'Whole Moong': 18.0, 'Channa Dal': 14.749818858667584, 'Brown Chana': 13.0, 'Sona Masoori Raw Rice': 20.313586592532786, 'Wheat Flour 10kg': -1.6419127501757593, 'Paneer': 52.798492160329666, 'Soya Chunks': 17.5, 'Wheat - Whole, 5 kg Bag': -5.415253618477231, 'Masoor Dal': 16.0, 'White lobia': 16.9, 'Moong Dal(2kg)': 15.691386577307963, 'Urad Dal': 20.0, 'Rajma': 20.0, 'Peanuts': 22.0, 'Horse Gram': 20.0}\n",
        "j=0\n",
        "for i in temp.keys():\n",
        "    print(str(i)+' '+str(j))\n",
        "    j=j+1"
      ],
      "execution_count": null,
      "outputs": [
        {
          "output_type": "stream",
          "text": [
            "Onion 0\n",
            "Tomato 1\n",
            "Capsicum 2\n",
            "Carrot 3\n",
            "Ladies Finger 4\n",
            "Pumpkin Green 5\n",
            "Cucumber 6\n",
            "Potato 7\n",
            "Drumstick 8\n",
            "Coriander Leaves 9\n",
            "Beetroot 10\n",
            "Cabbage 11\n",
            "Cauliflower 12\n",
            "Sweet Corn 13\n",
            "Brinjal 14\n",
            "Bottle Gourd 15\n",
            "Ridge Gourd 16\n",
            "Radish 17\n",
            "Palak 18\n",
            "Turnip 19\n",
            "Sweet Potato 20\n",
            "Yam 21\n",
            "Green Peas 22\n",
            "Ash Gourd/ Ash Pumpkin 23\n",
            "Chow Chow 24\n",
            "Coccinia 25\n",
            "Beans 26\n",
            "Baby Corn 27\n",
            "Knol Khol 28\n",
            "Toor Dal 29\n",
            "Whole Moong 30\n",
            "Channa Dal 31\n",
            "Brown Chana 32\n",
            "Sona Masoori Raw Rice 33\n",
            "Wheat Flour 10kg 34\n",
            "Paneer 35\n",
            "Soya Chunks 36\n",
            "Wheat - Whole, 5 kg Bag 37\n",
            "Masoor Dal 38\n",
            "White lobia 39\n",
            "Moong Dal(2kg) 40\n",
            "Urad Dal 41\n",
            "Rajma 42\n",
            "Peanuts 43\n",
            "Horse Gram 44\n"
          ],
          "name": "stdout"
        }
      ]
    },
    {
      "cell_type": "code",
      "metadata": {
        "colab": {
          "base_uri": "https://localhost:8080/"
        },
        "id": "nG53q2vHvPKq",
        "outputId": "6d052a39-1c4b-4366-8c2c-f44e0d2681d1"
      },
      "source": [
        "# try:\n",
        "#     from prophet import Prophet\n",
        "# except:\n",
        "#     !pip install pystan==2.19.1.1\n",
        "#     !pip install prophet\n",
        "#     from prophet import Prophet\n",
        "# import pandas as pd\n",
        "# from google.colab import files\n",
        "# from tqdm import tqdm\n",
        "# from time import sleep\n",
        "# from prophet.plot import plot_plotly, plot_components_plotly\n",
        "# import warnings\n",
        "# warnings.filterwarnings(\"ignore\")\n",
        "\n",
        "def loop(i):\n",
        "    try:\n",
        "        df=pd.read_csv('aahaar_dataset.csv', parse_dates=[\"Date\"], dayfirst=True, usecols=[0,i+1])\n",
        "        df1=pd.read_csv('aahaar_dataset.csv', parse_dates=[\"Date\"], dayfirst=True)\n",
        "    except FileNotFoundError:\n",
        "        uploaded = files.upload()\n",
        "        df=pd.read_csv('aahaar_dataset.csv', parse_dates=[\"Date\"], dayfirst=True, usecols=[0,i+1])\n",
        "        df1=pd.read_csv('aahaar_dataset.csv', parse_dates=[\"Date\"], dayfirst=True)\n",
        "    return df, df1\n",
        "\n",
        "def price_prediction():\n",
        "    name_price = {}\n",
        "    for i in tqdm(range(45)):\n",
        "        df, df1 = loop(i)\n",
        "        df.columns = [\"ds\", \"y\"]\n",
        "        df = df.fillna(method='bfill')\n",
        "        # print(df)\n",
        "        m = Prophet(weekly_seasonality=False, daily_seasonality=True, changepoint_prior_scale=0.5, seasonality_prior_scale=1.0)  #  yearly_seasonality=True\n",
        "        m.add_country_holidays(\"India\")\n",
        "        # m.add_regressor()\n",
        "        m.add_seasonality(name='monthly', period=20, fourier_order=4)\n",
        "        m.fit(df)\n",
        "        future = m.make_future_dataframe(periods=1)\n",
        "        forecast = m.predict(future)\n",
        "        # print(forecast[['ds', 'yhat', 'yhat_lower', 'yhat_upper']].tail())\n",
        "        name_price[df1.columns[i+1]] = forecast.yhat.tail(1).to_dict()[len(forecast.yhat)-1]\n",
        "        # fig = m.plot(forecast, ylabel=df1.columns[i]+\" price\")\n",
        "    return name_price\n",
        "\n",
        "if __name__ == \"__main__\":\n",
        "    names_price = price_prediction()\n",
        "    print(names_price)"
      ],
      "execution_count": null,
      "outputs": [
        {
          "output_type": "stream",
          "text": [
            "  0%|          | 0/45 [00:00<?, ?it/s]INFO:prophet:Disabling yearly seasonality. Run prophet with yearly_seasonality=True to override this.\n",
            "  2%|▏         | 1/45 [00:02<01:39,  2.27s/it]INFO:prophet:Disabling yearly seasonality. Run prophet with yearly_seasonality=True to override this.\n",
            "  4%|▍         | 2/45 [00:04<01:36,  2.25s/it]INFO:prophet:Disabling yearly seasonality. Run prophet with yearly_seasonality=True to override this.\n",
            "  7%|▋         | 3/45 [00:06<01:35,  2.27s/it]INFO:prophet:Disabling yearly seasonality. Run prophet with yearly_seasonality=True to override this.\n",
            "  9%|▉         | 4/45 [00:09<01:32,  2.26s/it]INFO:prophet:Disabling yearly seasonality. Run prophet with yearly_seasonality=True to override this.\n",
            " 11%|█         | 5/45 [00:11<01:29,  2.24s/it]INFO:prophet:Disabling yearly seasonality. Run prophet with yearly_seasonality=True to override this.\n",
            " 13%|█▎        | 6/45 [00:13<01:26,  2.22s/it]INFO:prophet:Disabling yearly seasonality. Run prophet with yearly_seasonality=True to override this.\n",
            " 16%|█▌        | 7/45 [00:15<01:23,  2.20s/it]INFO:prophet:Disabling yearly seasonality. Run prophet with yearly_seasonality=True to override this.\n",
            " 18%|█▊        | 8/45 [00:17<01:22,  2.24s/it]INFO:prophet:Disabling yearly seasonality. Run prophet with yearly_seasonality=True to override this.\n",
            " 20%|██        | 9/45 [00:20<01:19,  2.22s/it]INFO:prophet:Disabling yearly seasonality. Run prophet with yearly_seasonality=True to override this.\n",
            " 22%|██▏       | 10/45 [00:22<01:17,  2.22s/it]INFO:prophet:Disabling yearly seasonality. Run prophet with yearly_seasonality=True to override this.\n",
            " 24%|██▍       | 11/45 [00:24<01:16,  2.24s/it]INFO:prophet:Disabling yearly seasonality. Run prophet with yearly_seasonality=True to override this.\n",
            " 27%|██▋       | 12/45 [00:26<01:13,  2.24s/it]INFO:prophet:Disabling yearly seasonality. Run prophet with yearly_seasonality=True to override this.\n",
            " 29%|██▉       | 13/45 [00:29<01:12,  2.27s/it]INFO:prophet:Disabling yearly seasonality. Run prophet with yearly_seasonality=True to override this.\n",
            " 31%|███       | 14/45 [00:31<01:08,  2.21s/it]INFO:prophet:Disabling yearly seasonality. Run prophet with yearly_seasonality=True to override this.\n",
            " 33%|███▎      | 15/45 [00:33<01:06,  2.20s/it]INFO:prophet:Disabling yearly seasonality. Run prophet with yearly_seasonality=True to override this.\n",
            " 36%|███▌      | 16/45 [00:35<01:04,  2.22s/it]INFO:prophet:Disabling yearly seasonality. Run prophet with yearly_seasonality=True to override this.\n",
            " 38%|███▊      | 17/45 [00:37<01:01,  2.19s/it]INFO:prophet:Disabling yearly seasonality. Run prophet with yearly_seasonality=True to override this.\n",
            " 40%|████      | 18/45 [00:39<00:59,  2.19s/it]INFO:prophet:Disabling yearly seasonality. Run prophet with yearly_seasonality=True to override this.\n",
            " 42%|████▏     | 19/45 [00:42<00:57,  2.21s/it]INFO:prophet:Disabling yearly seasonality. Run prophet with yearly_seasonality=True to override this.\n",
            " 44%|████▍     | 20/45 [00:44<00:56,  2.24s/it]INFO:prophet:Disabling yearly seasonality. Run prophet with yearly_seasonality=True to override this.\n",
            " 47%|████▋     | 21/45 [00:46<00:53,  2.24s/it]INFO:prophet:Disabling yearly seasonality. Run prophet with yearly_seasonality=True to override this.\n",
            " 49%|████▉     | 22/45 [00:49<00:51,  2.24s/it]INFO:prophet:Disabling yearly seasonality. Run prophet with yearly_seasonality=True to override this.\n",
            " 51%|█████     | 23/45 [00:51<00:49,  2.23s/it]INFO:prophet:Disabling yearly seasonality. Run prophet with yearly_seasonality=True to override this.\n",
            " 53%|█████▎    | 24/45 [00:53<00:47,  2.27s/it]INFO:prophet:Disabling yearly seasonality. Run prophet with yearly_seasonality=True to override this.\n",
            " 56%|█████▌    | 25/45 [00:55<00:45,  2.30s/it]INFO:prophet:Disabling yearly seasonality. Run prophet with yearly_seasonality=True to override this.\n",
            " 58%|█████▊    | 26/45 [00:58<00:42,  2.26s/it]INFO:prophet:Disabling yearly seasonality. Run prophet with yearly_seasonality=True to override this.\n",
            " 60%|██████    | 27/45 [01:00<00:40,  2.23s/it]INFO:prophet:Disabling yearly seasonality. Run prophet with yearly_seasonality=True to override this.\n",
            " 62%|██████▏   | 28/45 [01:02<00:38,  2.28s/it]INFO:prophet:Disabling yearly seasonality. Run prophet with yearly_seasonality=True to override this.\n",
            " 64%|██████▍   | 29/45 [01:04<00:36,  2.26s/it]INFO:prophet:Disabling yearly seasonality. Run prophet with yearly_seasonality=True to override this.\n",
            " 67%|██████▋   | 30/45 [01:06<00:32,  2.19s/it]INFO:prophet:Disabling yearly seasonality. Run prophet with yearly_seasonality=True to override this.\n",
            " 69%|██████▉   | 31/45 [01:08<00:29,  2.12s/it]INFO:prophet:Disabling yearly seasonality. Run prophet with yearly_seasonality=True to override this.\n",
            " 71%|███████   | 32/45 [01:10<00:27,  2.11s/it]INFO:prophet:Disabling yearly seasonality. Run prophet with yearly_seasonality=True to override this.\n",
            " 73%|███████▎  | 33/45 [01:13<00:25,  2.09s/it]INFO:prophet:Disabling yearly seasonality. Run prophet with yearly_seasonality=True to override this.\n",
            " 76%|███████▌  | 34/45 [01:15<00:23,  2.10s/it]INFO:prophet:Disabling yearly seasonality. Run prophet with yearly_seasonality=True to override this.\n",
            " 78%|███████▊  | 35/45 [01:17<00:20,  2.08s/it]INFO:prophet:Disabling yearly seasonality. Run prophet with yearly_seasonality=True to override this.\n",
            " 80%|████████  | 36/45 [01:19<00:19,  2.22s/it]INFO:prophet:Disabling yearly seasonality. Run prophet with yearly_seasonality=True to override this.\n",
            " 82%|████████▏ | 37/45 [01:21<00:17,  2.18s/it]INFO:prophet:Disabling yearly seasonality. Run prophet with yearly_seasonality=True to override this.\n",
            " 84%|████████▍ | 38/45 [01:23<00:14,  2.13s/it]INFO:prophet:Disabling yearly seasonality. Run prophet with yearly_seasonality=True to override this.\n",
            " 87%|████████▋ | 39/45 [01:25<00:12,  2.10s/it]INFO:prophet:Disabling yearly seasonality. Run prophet with yearly_seasonality=True to override this.\n",
            " 89%|████████▉ | 40/45 [01:27<00:10,  2.11s/it]INFO:prophet:Disabling yearly seasonality. Run prophet with yearly_seasonality=True to override this.\n",
            " 91%|█████████ | 41/45 [01:30<00:08,  2.09s/it]INFO:prophet:Disabling yearly seasonality. Run prophet with yearly_seasonality=True to override this.\n",
            " 93%|█████████▎| 42/45 [01:32<00:06,  2.08s/it]INFO:prophet:Disabling yearly seasonality. Run prophet with yearly_seasonality=True to override this.\n",
            " 96%|█████████▌| 43/45 [01:34<00:04,  2.05s/it]INFO:prophet:Disabling yearly seasonality. Run prophet with yearly_seasonality=True to override this.\n",
            " 98%|█████████▊| 44/45 [01:36<00:02,  2.06s/it]INFO:prophet:Disabling yearly seasonality. Run prophet with yearly_seasonality=True to override this.\n",
            "100%|██████████| 45/45 [01:38<00:00,  2.18s/it]"
          ],
          "name": "stderr"
        },
        {
          "output_type": "stream",
          "text": [
            "{'Onion': 2.7366973431417456, 'Tomato': 0.9351494407454206, 'Capsicum': 6.6517516499216045, 'Carrot': 4.677222494447989, 'Ladies Finger': 3.116888492294086, 'Pumpkin Green': 4.485352783390417, 'Cucumber': 2.263279361119708, 'Potato': 3.014659686077172, 'Drumstick': 9.591772792130014, 'Coriander Leaves': 15.444279395096258, 'Beetroot': 3.018160128802097, 'Cabbage': 2.2415142122799896, 'Cauliflower': 2.794488319008657, 'Sweet Corn': 18.0, 'Brinjal': 7.005748429756698, 'Bottle Gourd': 1.7780995127354602, 'Ridge Gourd': 7.144044002310962, 'Radish': 4.521248671506592, 'Palak': 12.626223865150216, 'Turnip': 12.89890960417494, 'Sweet Potato': 4.967876674049752, 'Yam': 10.06966415469206, 'Green Peas': 21.23242120953152, 'Ash Gourd/ Ash Pumpkin': 9.317565793115511, 'Chow Chow': 6.360470581966592, 'Coccinia': 5.896458038047069, 'Beans': 11.507841144787768, 'Baby Corn': 8.166388267009747, 'Knol Khol': 4.920446377002892, 'Toor Dal': 16.0, 'Whole Moong': 18.0, 'Channa Dal': 17.5, 'Brown Chana': 13.0, 'Sona Masoori Raw Rice': 7.0, 'Wheat Flour 10kg': 4.9, 'Paneer': 52.741932723874726, 'Soya Chunks': 17.5, 'Wheat - Whole, 5 kg Bag': 5.5, 'Masoor Dal': 16.0, 'White lobia': 16.9, 'Moong Dal(2kg)': 19.0, 'Urad Dal': 20.0, 'Rajma': 20.0, 'Peanuts': 22.0, 'Horse Gram': 20.0}\n"
          ],
          "name": "stdout"
        },
        {
          "output_type": "stream",
          "text": [
            "\n"
          ],
          "name": "stderr"
        }
      ]
    },
    {
      "cell_type": "code",
      "metadata": {
        "colab": {
          "base_uri": "https://localhost:8080/"
        },
        "id": "yiUicVMhxS6s",
        "outputId": "287f4e4c-10d3-45d4-f106-ec48c4389a48"
      },
      "source": [
        "import pandas as pd\n",
        "Ingredient=['Onion','Tomato','Capsicum','Carrot','Ladies Finger','Pumpkin','Cucumber',\n",
        "            'Potato','Drumstick','Coriander Leaves','Beetroot',\n",
        "            'Cabbage','Cauliflower','Sweet Corn','Brinjal','Bottle Gourd',\n",
        "            'Ridge Gourd','Radish','Palak','Turnip',\n",
        "            'Sweet Potato','Yam','Green Peas',\n",
        "            'Ash Gourd','Chow Chow','Coccinia','Beans',\n",
        "            'Baby Corn','Knol Khol','Toor Dal','Whole Moong','Channa Dal',\n",
        "            'Chana','Rice','Wheat Flour','Paneer','Soya Chunks','Whole Wheat','Masoor Dal',\n",
        "            'White lobia','Moong Dal','Urad Dal','Rajma','Peanuts','Horse Gram']\n",
        "\n",
        "Price=[2.75,2.5,6.25,4.5,4.25,4.5,3.75,3,10,12.5,3.25,3.75,2.5,18,6,1.875,\n",
        "       6.5,3.25,12.5,10,5.25,8.75,19.75,9.5,6.5,6.25,10,8,4.25,16,18,17.5,13,\n",
        "       7,4.9,52.5,17.5,5.5,16,16.9,19,20,20,22,20]\n",
        "\n",
        "ingrePrice=dict(zip(Ingredient, Price))\n",
        "print(ingrePrice)"
      ],
      "execution_count": null,
      "outputs": [
        {
          "output_type": "stream",
          "text": [
            "{'Onion': 2.75, 'Tomato': 2.5, 'Capsicum': 6.25, 'Carrot': 4.5, 'Ladies Finger': 4.25, 'Pumpkin': 4.5, 'Cucumber': 3.75, 'Potato': 3, 'Drumstick': 10, 'Coriander Leaves': 12.5, 'Beetroot': 3.25, 'Cabbage': 3.75, 'Cauliflower': 2.5, 'Sweet Corn': 18, 'Brinjal': 6, 'Bottle Gourd': 1.875, 'Ridge Gourd': 6.5, 'Radish': 3.25, 'Palak': 12.5, 'Turnip': 10, 'Sweet Potato': 5.25, 'Yam': 8.75, 'Green Peas': 19.75, 'Ash Gourd': 9.5, 'Chow Chow': 6.5, 'Coccinia': 6.25, 'Beans': 10, 'Baby Corn': 8, 'Knol Khol': 4.25, 'Toor Dal': 16, 'Whole Moong': 18, 'Channa Dal': 17.5, 'Chana': 13, 'Rice': 7, 'Wheat Flour': 4.9, 'Paneer': 52.5, 'Soya Chunks': 17.5, 'Whole Wheat': 5.5, 'Masoor Dal': 16, 'White lobia': 16.9, 'Moong Dal': 19, 'Urad Dal': 20, 'Rajma': 20, 'Peanuts': 22, 'Horse Gram': 20}\n"
          ],
          "name": "stdout"
        }
      ]
    },
    {
      "cell_type": "code",
      "metadata": {
        "id": "jH0HIew36kMy"
      },
      "source": [
        "forecast = names_price"
      ],
      "execution_count": null,
      "outputs": []
    },
    {
      "cell_type": "code",
      "metadata": {
        "id": "uh4iLuAWKo35"
      },
      "source": [
        "Monday=['GheeRice', 'DalTadka', 'Sabzi']\n",
        "Tuesday=['Roti','Curry','Payasam']\n",
        "Wednesday=['Rice','Sambhar']\n",
        "Thursday=['Khichdi','Sprouts','Halwa']\n",
        "Friday=['Bisibelebhath']\n",
        "Saturday=['Pulao','Raitha','SweetPongal']"
      ],
      "execution_count": null,
      "outputs": []
    },
    {
      "cell_type": "code",
      "metadata": {
        "id": "DA6ZjSdMNSTz"
      },
      "source": [
        "DalTadka=['ToorDal','MoongDal','MasoorDal','UradDal']\n",
        "Sabzi=['Onion','Tomato','Carrot','Pumpkin','Potato','Beetroot','Cabbage',\n",
        "       'Cauliflower','SweetCorn','BottleGourd','Radish','Turnip','SweetPotato',\n",
        "       'Yam','ChowChow','Coccinia','KnolKhol']\n",
        "Payasam=['MoongDal','ChanaDal','Wheat ','Rice']\n",
        "Curry=['Onion','Tomato','Carrot','Brinjal','Potato','Beetroot','Cabbage','Cauliflower',\n",
        "       'SweetCorn','BottleGourd','Radish','Turnip','ChowChow',\n",
        "       'KnolKhol','Capsicum','RidgeGourd','Palak','Peas','Beans','BabyCorn',\n",
        "       'Chana','Paneer ','SoyaChunks','Rajma']\n",
        "Sambhar=['Onion','Tomato','Carrot','Pumpkin','Potato','Beetroot','Brinjal',\n",
        "         'Cauliflower','RidgeGourd','BottleGourd','Radish','Turnip','AshGourd',\n",
        "         'ChowChow','Coccinia','KnolKhol','Capsicum','LadiesFinger','Drumstick']\n",
        "Sprouts=['Moong','Peanut','HorseGram', 'Chana','Lobia']\n",
        "Halwa=['Beetroot','Carrot','AshGourd','BottleGourd','Pumpkin']\n",
        "Bisibelebhath=['Peas','Tomato','Carrot','Beans','Turnip','Potato','Capsicum','Cauliflower','Cabbage']\n",
        "Pulao=['Onion','Tomato','Carrot','Cabbage','Cauliflower','Capsicum','Potato','Beetroot',\n",
        "       'Sweet corn','Peas','Beans','Baby Corn','Turnip','Soya Chunks']"
      ],
      "execution_count": null,
      "outputs": []
    },
    {
      "cell_type": "code",
      "metadata": {
        "id": "F9RXIn-Yb9eG"
      },
      "source": [
        "Primary={'Calorie':450,'Protein':12}\n",
        "UpperPrimary={'Calorie':700,'Protein':20}"
      ],
      "execution_count": null,
      "outputs": []
    },
    {
      "cell_type": "code",
      "metadata": {
        "id": "vTCizu1ucdFW"
      },
      "source": [
        "Onion={'Calorie':40,'Protein':1.1}\n",
        "Tomato ={'Calorie':18,'Protein':0.9}\n",
        "Capsicum={'Calorie':24,'Protein':0.9}\n",
        "Carrot={'Calorie':41,'Protein':0.9}\n",
        "LadiesFinger={'Calorie':33,'Protein':1.9}\n",
        "Pumpkin={'Calorie':26,'Protein':1}\n",
        "Cucumber={'Calorie':10,'Protein':0.6}\n",
        "Potato={'Calorie':100,'Protein':2}\n",
        "Drumstick={'Calorie':64,'Protein':9.4}\n",
        "Coriander ={'Calorie':23,'Protein':2.13}\n",
        "Beetroot={'Calorie':43,'Protein':1.6}\n",
        "Cabbage={'Calorie':40,'Protein':2}\n",
        "Cauliflower={'Calorie':31,'Protein':3}\n",
        "SweetCorn={'Calorie':86,'Protein':3.3}\n",
        "Brinjal={'Calorie':24,'Protein':1.01}\n",
        "BottleGourd={'Calorie':15,'Protein':0.6}\n",
        "RidgeGourd={'Calorie':46,'Protein':1.8}\n",
        "Radish={'Calorie':16,'Protein':0.7}\n",
        "Palak={'Calorie':26,'Protein':3}\n",
        "Turnip={'Calorie':28,'Protein':0.9}\n",
        "# Banana={'Calorie':,'Protein':}\n",
        "SweetPotato={'Calorie':86,'Protein':1.6}\n",
        "Yam={'Calorie':118,'Protein':1.5}\n",
        "Peas={'Calorie':70,'Protein':5}\n",
        "AshGourd={'Calorie':13,'Protein':0.4}\n",
        "ChowChow={'Calorie':19,'Protein':0.8}\n",
        "Coccinia={'Calorie':18,'Protein':1.57}\n",
        "Beans={'Calorie':25,'Protein':1}\n",
        "BabyCorn={'Calorie':26,'Protein':2.5}\n",
        "KnolKhol={'Calorie':27,'Protein':1.7}\n",
        "ToorDal={'Calorie':134,'Protein':6.47}\n",
        "Moong={'Calorie':115,'Protein':8}\n",
        "ChanaDal={'Calorie':160,'Protein':9.98}\n",
        "Chana={'Calorie':164,'Protein':8.86}\n",
        "Rice ={'Calorie':129,'Protein':2.66}\n",
        "Wheatflour={'Calorie':137,'Protein':5}\n",
        "Paneer ={'Calorie':293,'Protein':14.01}\n",
        "SoyaChunks={'Calorie':330,'Protein':47.01}\n",
        "Wheat={'Calorie':137,'Protein':5}\n",
        "MasoorDal={'Calorie':158,'Protein':8.59}\n",
        "Lobia={'Calorie':336,'Protein':23.52}\n",
        "MoongDal={'Calorie':106,'Protein':7.35}\n",
        "UradDal={'Calorie':350,'Protein':25.21}\n",
        "Rajma={'Calorie':165,'Protein':7.04}\n",
        "Peanut={'Calorie':567,'Protein':25.8}\n",
        "# Sprouts={'Calorie':,'Protein':}\n",
        "HorseGram={'Calorie':321,'Protein':22}"
      ],
      "execution_count": null,
      "outputs": []
    },
    {
      "cell_type": "code",
      "metadata": {
        "id": "tr6uZ1OcrpNj"
      },
      "source": [
        "Calorie = [40, 18, 24, 41, 33, 26, 10, 100, 64, 23, 43, 40, 31, 86, 24, 15, 46, 16, 26, 28, 86, 118, 70, 13, 19, 18, 25, 26, 27, 134, 115, 160, 164, 129, 137, 293, 330, 137, 158, 336, 106, 350, 165, 567, 321]\n",
        "Protein = [1.1, 0.9, 0.9, 0.9, 1.9, 1, 0.6, 2, 9.4, 2.13, 1.6, 2, 3, 3.3, 1.01, 0.6, 1.8, 0.7, 3, 0.9, 1.6, 1.5, 5, 0.4, 0.8, 1.57, 1, 2.5, 1.7, 6.47, 8, 9.98, 8.86, 2.66, 5, 14.01, 47.01, 5, 8.59, 23.52, 7.35, 25.21, 7.04, 25.8, 22]"
      ],
      "execution_count": null,
      "outputs": []
    },
    {
      "cell_type": "code",
      "metadata": {
        "id": "1KsAQiaNpIRX"
      },
      "source": [
        "forecast = names_price"
      ],
      "execution_count": null,
      "outputs": []
    },
    {
      "cell_type": "code",
      "metadata": {
        "colab": {
          "base_uri": "https://localhost:8080/"
        },
        "id": "xuTyEHKKTpCo",
        "outputId": "517d7897-2eb0-4df2-ab3b-c604299bcd87"
      },
      "source": [
        "len(forecast)"
      ],
      "execution_count": null,
      "outputs": [
        {
          "output_type": "execute_result",
          "data": {
            "text/plain": [
              "45"
            ]
          },
          "metadata": {
            "tags": []
          },
          "execution_count": 66
        }
      ]
    },
    {
      "cell_type": "code",
      "metadata": {
        "id": "I34GFNTb4lMU"
      },
      "source": [
        "Ingredients = []\n",
        "Prices = []\n",
        "for i in forecast:\n",
        "    # print(i, forecast[i])\n",
        "    name = str(i)\n",
        "    Ingredients.append(i)\n",
        "    Prices.append(forecast[i])"
      ],
      "execution_count": null,
      "outputs": []
    },
    {
      "cell_type": "code",
      "metadata": {
        "colab": {
          "base_uri": "https://localhost:8080/",
          "height": 1000
        },
        "id": "546lyNMO6EaN",
        "outputId": "d59c84e2-f9c9-412f-e221-d3416db1392a"
      },
      "source": [
        "data = {'Ingredient': Ingredient, 'Price': Prices, 'Calories' : Calorie, 'Protein' : Protein}\n",
        "df = pd.DataFrame(data)\n",
        "df"
      ],
      "execution_count": null,
      "outputs": [
        {
          "output_type": "execute_result",
          "data": {
            "text/html": [
              "<div>\n",
              "<style scoped>\n",
              "    .dataframe tbody tr th:only-of-type {\n",
              "        vertical-align: middle;\n",
              "    }\n",
              "\n",
              "    .dataframe tbody tr th {\n",
              "        vertical-align: top;\n",
              "    }\n",
              "\n",
              "    .dataframe thead th {\n",
              "        text-align: right;\n",
              "    }\n",
              "</style>\n",
              "<table border=\"1\" class=\"dataframe\">\n",
              "  <thead>\n",
              "    <tr style=\"text-align: right;\">\n",
              "      <th></th>\n",
              "      <th>Ingredient</th>\n",
              "      <th>Price</th>\n",
              "      <th>Calories</th>\n",
              "      <th>Protein</th>\n",
              "    </tr>\n",
              "  </thead>\n",
              "  <tbody>\n",
              "    <tr>\n",
              "      <th>0</th>\n",
              "      <td>Onion</td>\n",
              "      <td>2.736697</td>\n",
              "      <td>40</td>\n",
              "      <td>1.10</td>\n",
              "    </tr>\n",
              "    <tr>\n",
              "      <th>1</th>\n",
              "      <td>Tomato</td>\n",
              "      <td>0.935149</td>\n",
              "      <td>18</td>\n",
              "      <td>0.90</td>\n",
              "    </tr>\n",
              "    <tr>\n",
              "      <th>2</th>\n",
              "      <td>Capsicum</td>\n",
              "      <td>6.651752</td>\n",
              "      <td>24</td>\n",
              "      <td>0.90</td>\n",
              "    </tr>\n",
              "    <tr>\n",
              "      <th>3</th>\n",
              "      <td>Carrot</td>\n",
              "      <td>4.677222</td>\n",
              "      <td>41</td>\n",
              "      <td>0.90</td>\n",
              "    </tr>\n",
              "    <tr>\n",
              "      <th>4</th>\n",
              "      <td>Ladies Finger</td>\n",
              "      <td>3.116888</td>\n",
              "      <td>33</td>\n",
              "      <td>1.90</td>\n",
              "    </tr>\n",
              "    <tr>\n",
              "      <th>5</th>\n",
              "      <td>Pumpkin</td>\n",
              "      <td>4.485353</td>\n",
              "      <td>26</td>\n",
              "      <td>1.00</td>\n",
              "    </tr>\n",
              "    <tr>\n",
              "      <th>6</th>\n",
              "      <td>Cucumber</td>\n",
              "      <td>2.263279</td>\n",
              "      <td>10</td>\n",
              "      <td>0.60</td>\n",
              "    </tr>\n",
              "    <tr>\n",
              "      <th>7</th>\n",
              "      <td>Potato</td>\n",
              "      <td>3.014660</td>\n",
              "      <td>100</td>\n",
              "      <td>2.00</td>\n",
              "    </tr>\n",
              "    <tr>\n",
              "      <th>8</th>\n",
              "      <td>Drumstick</td>\n",
              "      <td>9.591773</td>\n",
              "      <td>64</td>\n",
              "      <td>9.40</td>\n",
              "    </tr>\n",
              "    <tr>\n",
              "      <th>9</th>\n",
              "      <td>Coriander Leaves</td>\n",
              "      <td>15.444279</td>\n",
              "      <td>23</td>\n",
              "      <td>2.13</td>\n",
              "    </tr>\n",
              "    <tr>\n",
              "      <th>10</th>\n",
              "      <td>Beetroot</td>\n",
              "      <td>3.018160</td>\n",
              "      <td>43</td>\n",
              "      <td>1.60</td>\n",
              "    </tr>\n",
              "    <tr>\n",
              "      <th>11</th>\n",
              "      <td>Cabbage</td>\n",
              "      <td>2.241514</td>\n",
              "      <td>40</td>\n",
              "      <td>2.00</td>\n",
              "    </tr>\n",
              "    <tr>\n",
              "      <th>12</th>\n",
              "      <td>Cauliflower</td>\n",
              "      <td>2.794488</td>\n",
              "      <td>31</td>\n",
              "      <td>3.00</td>\n",
              "    </tr>\n",
              "    <tr>\n",
              "      <th>13</th>\n",
              "      <td>Sweet Corn</td>\n",
              "      <td>18.000000</td>\n",
              "      <td>86</td>\n",
              "      <td>3.30</td>\n",
              "    </tr>\n",
              "    <tr>\n",
              "      <th>14</th>\n",
              "      <td>Brinjal</td>\n",
              "      <td>7.005748</td>\n",
              "      <td>24</td>\n",
              "      <td>1.01</td>\n",
              "    </tr>\n",
              "    <tr>\n",
              "      <th>15</th>\n",
              "      <td>Bottle Gourd</td>\n",
              "      <td>1.778100</td>\n",
              "      <td>15</td>\n",
              "      <td>0.60</td>\n",
              "    </tr>\n",
              "    <tr>\n",
              "      <th>16</th>\n",
              "      <td>Ridge Gourd</td>\n",
              "      <td>7.144044</td>\n",
              "      <td>46</td>\n",
              "      <td>1.80</td>\n",
              "    </tr>\n",
              "    <tr>\n",
              "      <th>17</th>\n",
              "      <td>Radish</td>\n",
              "      <td>4.521249</td>\n",
              "      <td>16</td>\n",
              "      <td>0.70</td>\n",
              "    </tr>\n",
              "    <tr>\n",
              "      <th>18</th>\n",
              "      <td>Palak</td>\n",
              "      <td>12.626224</td>\n",
              "      <td>26</td>\n",
              "      <td>3.00</td>\n",
              "    </tr>\n",
              "    <tr>\n",
              "      <th>19</th>\n",
              "      <td>Turnip</td>\n",
              "      <td>12.898910</td>\n",
              "      <td>28</td>\n",
              "      <td>0.90</td>\n",
              "    </tr>\n",
              "    <tr>\n",
              "      <th>20</th>\n",
              "      <td>Sweet Potato</td>\n",
              "      <td>4.967877</td>\n",
              "      <td>86</td>\n",
              "      <td>1.60</td>\n",
              "    </tr>\n",
              "    <tr>\n",
              "      <th>21</th>\n",
              "      <td>Yam</td>\n",
              "      <td>10.069664</td>\n",
              "      <td>118</td>\n",
              "      <td>1.50</td>\n",
              "    </tr>\n",
              "    <tr>\n",
              "      <th>22</th>\n",
              "      <td>Green Peas</td>\n",
              "      <td>21.232421</td>\n",
              "      <td>70</td>\n",
              "      <td>5.00</td>\n",
              "    </tr>\n",
              "    <tr>\n",
              "      <th>23</th>\n",
              "      <td>Ash Gourd</td>\n",
              "      <td>9.317566</td>\n",
              "      <td>13</td>\n",
              "      <td>0.40</td>\n",
              "    </tr>\n",
              "    <tr>\n",
              "      <th>24</th>\n",
              "      <td>Chow Chow</td>\n",
              "      <td>6.360471</td>\n",
              "      <td>19</td>\n",
              "      <td>0.80</td>\n",
              "    </tr>\n",
              "    <tr>\n",
              "      <th>25</th>\n",
              "      <td>Coccinia</td>\n",
              "      <td>5.896458</td>\n",
              "      <td>18</td>\n",
              "      <td>1.57</td>\n",
              "    </tr>\n",
              "    <tr>\n",
              "      <th>26</th>\n",
              "      <td>Beans</td>\n",
              "      <td>11.507841</td>\n",
              "      <td>25</td>\n",
              "      <td>1.00</td>\n",
              "    </tr>\n",
              "    <tr>\n",
              "      <th>27</th>\n",
              "      <td>Baby Corn</td>\n",
              "      <td>8.166388</td>\n",
              "      <td>26</td>\n",
              "      <td>2.50</td>\n",
              "    </tr>\n",
              "    <tr>\n",
              "      <th>28</th>\n",
              "      <td>Knol Khol</td>\n",
              "      <td>4.920446</td>\n",
              "      <td>27</td>\n",
              "      <td>1.70</td>\n",
              "    </tr>\n",
              "    <tr>\n",
              "      <th>29</th>\n",
              "      <td>Toor Dal</td>\n",
              "      <td>16.000000</td>\n",
              "      <td>134</td>\n",
              "      <td>6.47</td>\n",
              "    </tr>\n",
              "    <tr>\n",
              "      <th>30</th>\n",
              "      <td>Whole Moong</td>\n",
              "      <td>18.000000</td>\n",
              "      <td>115</td>\n",
              "      <td>8.00</td>\n",
              "    </tr>\n",
              "    <tr>\n",
              "      <th>31</th>\n",
              "      <td>Channa Dal</td>\n",
              "      <td>17.500000</td>\n",
              "      <td>160</td>\n",
              "      <td>9.98</td>\n",
              "    </tr>\n",
              "    <tr>\n",
              "      <th>32</th>\n",
              "      <td>Chana</td>\n",
              "      <td>13.000000</td>\n",
              "      <td>164</td>\n",
              "      <td>8.86</td>\n",
              "    </tr>\n",
              "    <tr>\n",
              "      <th>33</th>\n",
              "      <td>Rice</td>\n",
              "      <td>7.000000</td>\n",
              "      <td>129</td>\n",
              "      <td>2.66</td>\n",
              "    </tr>\n",
              "    <tr>\n",
              "      <th>34</th>\n",
              "      <td>Wheat Flour</td>\n",
              "      <td>4.900000</td>\n",
              "      <td>137</td>\n",
              "      <td>5.00</td>\n",
              "    </tr>\n",
              "    <tr>\n",
              "      <th>35</th>\n",
              "      <td>Paneer</td>\n",
              "      <td>52.741933</td>\n",
              "      <td>293</td>\n",
              "      <td>14.01</td>\n",
              "    </tr>\n",
              "    <tr>\n",
              "      <th>36</th>\n",
              "      <td>Soya Chunks</td>\n",
              "      <td>17.500000</td>\n",
              "      <td>330</td>\n",
              "      <td>47.01</td>\n",
              "    </tr>\n",
              "    <tr>\n",
              "      <th>37</th>\n",
              "      <td>Whole Wheat</td>\n",
              "      <td>5.500000</td>\n",
              "      <td>137</td>\n",
              "      <td>5.00</td>\n",
              "    </tr>\n",
              "    <tr>\n",
              "      <th>38</th>\n",
              "      <td>Masoor Dal</td>\n",
              "      <td>16.000000</td>\n",
              "      <td>158</td>\n",
              "      <td>8.59</td>\n",
              "    </tr>\n",
              "    <tr>\n",
              "      <th>39</th>\n",
              "      <td>White lobia</td>\n",
              "      <td>16.900000</td>\n",
              "      <td>336</td>\n",
              "      <td>23.52</td>\n",
              "    </tr>\n",
              "    <tr>\n",
              "      <th>40</th>\n",
              "      <td>Moong Dal</td>\n",
              "      <td>19.000000</td>\n",
              "      <td>106</td>\n",
              "      <td>7.35</td>\n",
              "    </tr>\n",
              "    <tr>\n",
              "      <th>41</th>\n",
              "      <td>Urad Dal</td>\n",
              "      <td>20.000000</td>\n",
              "      <td>350</td>\n",
              "      <td>25.21</td>\n",
              "    </tr>\n",
              "    <tr>\n",
              "      <th>42</th>\n",
              "      <td>Rajma</td>\n",
              "      <td>20.000000</td>\n",
              "      <td>165</td>\n",
              "      <td>7.04</td>\n",
              "    </tr>\n",
              "    <tr>\n",
              "      <th>43</th>\n",
              "      <td>Peanuts</td>\n",
              "      <td>22.000000</td>\n",
              "      <td>567</td>\n",
              "      <td>25.80</td>\n",
              "    </tr>\n",
              "    <tr>\n",
              "      <th>44</th>\n",
              "      <td>Horse Gram</td>\n",
              "      <td>20.000000</td>\n",
              "      <td>321</td>\n",
              "      <td>22.00</td>\n",
              "    </tr>\n",
              "  </tbody>\n",
              "</table>\n",
              "</div>"
            ],
            "text/plain": [
              "          Ingredient      Price  Calories  Protein\n",
              "0              Onion   2.736697        40     1.10\n",
              "1             Tomato   0.935149        18     0.90\n",
              "2           Capsicum   6.651752        24     0.90\n",
              "3             Carrot   4.677222        41     0.90\n",
              "4      Ladies Finger   3.116888        33     1.90\n",
              "5            Pumpkin   4.485353        26     1.00\n",
              "6           Cucumber   2.263279        10     0.60\n",
              "7             Potato   3.014660       100     2.00\n",
              "8          Drumstick   9.591773        64     9.40\n",
              "9   Coriander Leaves  15.444279        23     2.13\n",
              "10          Beetroot   3.018160        43     1.60\n",
              "11           Cabbage   2.241514        40     2.00\n",
              "12       Cauliflower   2.794488        31     3.00\n",
              "13        Sweet Corn  18.000000        86     3.30\n",
              "14           Brinjal   7.005748        24     1.01\n",
              "15      Bottle Gourd   1.778100        15     0.60\n",
              "16       Ridge Gourd   7.144044        46     1.80\n",
              "17            Radish   4.521249        16     0.70\n",
              "18             Palak  12.626224        26     3.00\n",
              "19            Turnip  12.898910        28     0.90\n",
              "20      Sweet Potato   4.967877        86     1.60\n",
              "21               Yam  10.069664       118     1.50\n",
              "22        Green Peas  21.232421        70     5.00\n",
              "23         Ash Gourd   9.317566        13     0.40\n",
              "24         Chow Chow   6.360471        19     0.80\n",
              "25          Coccinia   5.896458        18     1.57\n",
              "26             Beans  11.507841        25     1.00\n",
              "27         Baby Corn   8.166388        26     2.50\n",
              "28         Knol Khol   4.920446        27     1.70\n",
              "29          Toor Dal  16.000000       134     6.47\n",
              "30       Whole Moong  18.000000       115     8.00\n",
              "31        Channa Dal  17.500000       160     9.98\n",
              "32             Chana  13.000000       164     8.86\n",
              "33              Rice   7.000000       129     2.66\n",
              "34       Wheat Flour   4.900000       137     5.00\n",
              "35            Paneer  52.741933       293    14.01\n",
              "36       Soya Chunks  17.500000       330    47.01\n",
              "37       Whole Wheat   5.500000       137     5.00\n",
              "38        Masoor Dal  16.000000       158     8.59\n",
              "39       White lobia  16.900000       336    23.52\n",
              "40         Moong Dal  19.000000       106     7.35\n",
              "41          Urad Dal  20.000000       350    25.21\n",
              "42             Rajma  20.000000       165     7.04\n",
              "43           Peanuts  22.000000       567    25.80\n",
              "44        Horse Gram  20.000000       321    22.00"
            ]
          },
          "metadata": {
            "tags": []
          },
          "execution_count": 68
        }
      ]
    },
    {
      "cell_type": "code",
      "metadata": {
        "id": "27H0dBM4es27"
      },
      "source": [
        "try:\n",
        "    from pulp import *\n",
        "except:\n",
        "    !pip install pulp\n",
        "    from pulp import *"
      ],
      "execution_count": null,
      "outputs": []
    },
    {
      "cell_type": "code",
      "metadata": {
        "id": "_PzqnyE2gvu9"
      },
      "source": [
        "bisibele=LpProblem(\"Diet\", LpMinimize)"
      ],
      "execution_count": null,
      "outputs": []
    },
    {
      "cell_type": "code",
      "metadata": {
        "id": "RSwIdyFwgxD5"
      },
      "source": [
        "tomato=LpVariable(\"Tomato\", lowBound=0, upBound=1, cat=\"Integer\")\n",
        "capsicum=LpVariable(\"Capsicum\", lowBound=0, upBound=1, cat=\"Integer\")\n",
        "carrot=LpVariable(\"Carrot\", lowBound=0, upBound=1, cat=\"Integer\")\n",
        "potato=LpVariable(\"Potato\", lowBound=0, upBound=1, cat=\"Integer\")\n",
        "cabbage=LpVariable(\"Cabbage\", lowBound=0, upBound=1, cat=\"Integer\")\n",
        "cauliflower=LpVariable(\"Cauliflower\", lowBound=0, upBound=1, cat=\"Integer\")\n",
        "turnip=LpVariable(\"Turnip\", lowBound=0, upBound=1, cat=\"Integer\")\n",
        "beans=LpVariable(\"Beans\", lowBound=0, upBound=1, cat=\"Integer\")\n",
        "rice=LpVariable(\"Rice\", lowBound=0, upBound=1, cat=\"Integer\")"
      ],
      "execution_count": null,
      "outputs": []
    },
    {
      "cell_type": "code",
      "metadata": {
        "id": "z8KB0UsaeiIs"
      },
      "source": [
        "bisibele+=0.935*tomato+6.652*capsicum+4.677*carrot+3.015*potato+2.242*cabbage+2.794*cauliflower+11.508*beans+7.0*rice"
      ],
      "execution_count": null,
      "outputs": []
    },
    {
      "cell_type": "code",
      "metadata": {
        "id": "hweb0ALreiIt"
      },
      "source": [
        "bisibele+=18*tomato+24*capsicum+41*carrot+100*potato+40*cabbage+31*cauliflower+25*beans+129*rice>=300"
      ],
      "execution_count": null,
      "outputs": []
    },
    {
      "cell_type": "code",
      "metadata": {
        "id": "SnJAsGqreiIt"
      },
      "source": [
        "bisibele+=0.9*tomato+0.9*capsicum+0.9*carrot+2*potato+2*cabbage+3*cauliflower+1*beans+2.66*rice>=10"
      ],
      "execution_count": null,
      "outputs": []
    },
    {
      "cell_type": "code",
      "metadata": {
        "colab": {
          "base_uri": "https://localhost:8080/"
        },
        "id": "ojbLAqA5Fhe6",
        "outputId": "f6305bc8-38be-4d7d-86c2-8c114a75810a"
      },
      "source": [
        "bisibele.solve()"
      ],
      "execution_count": null,
      "outputs": [
        {
          "output_type": "execute_result",
          "data": {
            "text/plain": [
              "1"
            ]
          },
          "metadata": {
            "tags": []
          },
          "execution_count": 379
        }
      ]
    },
    {
      "cell_type": "code",
      "metadata": {
        "colab": {
          "base_uri": "https://localhost:8080/"
        },
        "id": "jZ9Pgly4FnN4",
        "outputId": "7907cb37-d710-421e-914b-9d81cbf2f4cb"
      },
      "source": [
        "print(\"Ingredients cost Rs.\", round(value(bisibele.objective),2))"
      ],
      "execution_count": null,
      "outputs": [
        {
          "output_type": "stream",
          "text": [
            "Ingredients cost Rs. 15.99\n"
          ],
          "name": "stdout"
        }
      ]
    },
    {
      "cell_type": "code",
      "metadata": {
        "colab": {
          "base_uri": "https://localhost:8080/"
        },
        "id": "waqjXSxpOt8t",
        "outputId": "99585de1-5b9b-4de4-ac6b-c42fbd931268"
      },
      "source": [
        "print(\"Portion of Tomato: \",value(tomato))\n",
        "print(\"Portion of Capsicum: \",value(capsicum))\n",
        "print(\"Portion of Carrot: \",value(carrot))\n",
        "print(\"Portion of Potato: \",value(potato))\n",
        "print(\"Portion of Cabbage: \",value(cabbage))\n",
        "print(\"Portion of Cauliflower: \",value(cauliflower))\n",
        "print(\"Portion of Rice: \",value(rice))\n",
        "print(\"Portion of Beans: \",value(beans))"
      ],
      "execution_count": null,
      "outputs": [
        {
          "output_type": "stream",
          "text": [
            "Portion of Tomato:  1.0\n",
            "Portion of Capsicum:  0.0\n",
            "Portion of Carrot:  0.0\n",
            "Portion of Potato:  1.0\n",
            "Portion of Cabbage:  1.0\n",
            "Portion of Cauliflower:  1.0\n",
            "Portion of Rice:  1.0\n",
            "Portion of Beans:  0.0\n"
          ],
          "name": "stdout"
        }
      ]
    },
    {
      "cell_type": "code",
      "metadata": {
        "id": "IHieFv3zD92P"
      },
      "source": [
        "# bisibele+=0.935*tomato+6.652*capsicum+4.677*carrot+3.015*potato+2.242*cabbage+2.794*cauliflower+12.899*turnip+11.508*beans\n",
        "bisibele+=0.935*tomato+6.652*capsicum+4.677*carrot+3.015*potato+2.242*cabbage+2.794*cauliflower+11.508*beans+7.0*rice"
      ],
      "execution_count": null,
      "outputs": []
    },
    {
      "cell_type": "code",
      "metadata": {
        "id": "gJBdSAzlFI8R"
      },
      "source": [
        "bisibele+=18*tomato+24*capsicum+41*carrot+100*potato+40*cabbage+31*cauliflower+25*beans+129*rice>=300\n",
        "# bisibele+=18*tomato+24*capsicum+41*carrot+100*potato+40*cabbage+31*cauliflower+28*turnip+25*beans>=250"
      ],
      "execution_count": null,
      "outputs": []
    },
    {
      "cell_type": "code",
      "metadata": {
        "id": "sDnDMRVdFfQp"
      },
      "source": [
        "bisibele+=0.9*tomato+0.9*capsicum+0.9*carrot+2*potato+2*cabbage+3*cauliflower+1*beans+2.66*rice>=10\n",
        "# bisibele+=0.9*tomato+0.9*capsicum+0.9*carrot+2*potato+2*cabbage+3*cauliflower+0.9*turnip+1*beans>=12"
      ],
      "execution_count": null,
      "outputs": []
    },
    {
      "cell_type": "code",
      "metadata": {
        "id": "rtyuKy-pP5CV"
      },
      "source": [
        "prob = LpProblem(\"Diet\", LpMinimize)"
      ],
      "execution_count": null,
      "outputs": []
    },
    {
      "cell_type": "code",
      "metadata": {
        "colab": {
          "base_uri": "https://localhost:8080/"
        },
        "id": "v6hBiBK4QVx9",
        "outputId": "8ac1daf0-f139-4c22-e948-0a703da4f7f4"
      },
      "source": [
        "for i in Ingredient:\n",
        "    print(i.lower().replace(\" \", \"\")+\"=LpVariable(\\\"\"+i+\"\\\", lowBound=0, upBound=1, cat=\\\"Integer\\\")\")"
      ],
      "execution_count": null,
      "outputs": [
        {
          "output_type": "stream",
          "text": [
            "onion=LpVariable(\"Onion\", lowBound=0, upBound=1, cat=\"Integer\")\n",
            "tomato=LpVariable(\"Tomato\", lowBound=0, upBound=1, cat=\"Integer\")\n",
            "capsicum=LpVariable(\"Capsicum\", lowBound=0, upBound=1, cat=\"Integer\")\n",
            "carrot=LpVariable(\"Carrot\", lowBound=0, upBound=1, cat=\"Integer\")\n",
            "ladiesfinger=LpVariable(\"Ladies Finger\", lowBound=0, upBound=1, cat=\"Integer\")\n",
            "pumpkin=LpVariable(\"Pumpkin\", lowBound=0, upBound=1, cat=\"Integer\")\n",
            "cucumber=LpVariable(\"Cucumber\", lowBound=0, upBound=1, cat=\"Integer\")\n",
            "potato=LpVariable(\"Potato\", lowBound=0, upBound=1, cat=\"Integer\")\n",
            "drumstick=LpVariable(\"Drumstick\", lowBound=0, upBound=1, cat=\"Integer\")\n",
            "corianderleaves=LpVariable(\"Coriander Leaves\", lowBound=0, upBound=1, cat=\"Integer\")\n",
            "beetroot=LpVariable(\"Beetroot\", lowBound=0, upBound=1, cat=\"Integer\")\n",
            "cabbage=LpVariable(\"Cabbage\", lowBound=0, upBound=1, cat=\"Integer\")\n",
            "cauliflower=LpVariable(\"Cauliflower\", lowBound=0, upBound=1, cat=\"Integer\")\n",
            "sweetcorn=LpVariable(\"Sweet Corn\", lowBound=0, upBound=1, cat=\"Integer\")\n",
            "brinjal=LpVariable(\"Brinjal\", lowBound=0, upBound=1, cat=\"Integer\")\n",
            "bottlegourd=LpVariable(\"Bottle Gourd\", lowBound=0, upBound=1, cat=\"Integer\")\n",
            "ridgegourd=LpVariable(\"Ridge Gourd\", lowBound=0, upBound=1, cat=\"Integer\")\n",
            "radish=LpVariable(\"Radish\", lowBound=0, upBound=1, cat=\"Integer\")\n",
            "palak=LpVariable(\"Palak\", lowBound=0, upBound=1, cat=\"Integer\")\n",
            "turnip=LpVariable(\"Turnip\", lowBound=0, upBound=1, cat=\"Integer\")\n",
            "sweetpotato=LpVariable(\"Sweet Potato\", lowBound=0, upBound=1, cat=\"Integer\")\n",
            "yam=LpVariable(\"Yam\", lowBound=0, upBound=1, cat=\"Integer\")\n",
            "greenpeas=LpVariable(\"Green Peas\", lowBound=0, upBound=1, cat=\"Integer\")\n",
            "ashgourd=LpVariable(\"Ash Gourd\", lowBound=0, upBound=1, cat=\"Integer\")\n",
            "chowchow=LpVariable(\"Chow Chow\", lowBound=0, upBound=1, cat=\"Integer\")\n",
            "coccinia=LpVariable(\"Coccinia\", lowBound=0, upBound=1, cat=\"Integer\")\n",
            "beans=LpVariable(\"Beans\", lowBound=0, upBound=1, cat=\"Integer\")\n",
            "babycorn=LpVariable(\"Baby Corn\", lowBound=0, upBound=1, cat=\"Integer\")\n",
            "knolkhol=LpVariable(\"Knol Khol\", lowBound=0, upBound=1, cat=\"Integer\")\n",
            "toordal=LpVariable(\"Toor Dal\", lowBound=0, upBound=1, cat=\"Integer\")\n",
            "wholemoong=LpVariable(\"Whole Moong\", lowBound=0, upBound=1, cat=\"Integer\")\n",
            "channadal=LpVariable(\"Channa Dal\", lowBound=0, upBound=1, cat=\"Integer\")\n",
            "chana=LpVariable(\"Chana\", lowBound=0, upBound=1, cat=\"Integer\")\n",
            "rice=LpVariable(\"Rice\", lowBound=0, upBound=1, cat=\"Integer\")\n",
            "wheatflour=LpVariable(\"Wheat Flour\", lowBound=0, upBound=1, cat=\"Integer\")\n",
            "paneer=LpVariable(\"Paneer\", lowBound=0, upBound=1, cat=\"Integer\")\n",
            "soyachunks=LpVariable(\"Soya Chunks\", lowBound=0, upBound=1, cat=\"Integer\")\n",
            "wholewheat=LpVariable(\"Whole Wheat\", lowBound=0, upBound=1, cat=\"Integer\")\n",
            "masoordal=LpVariable(\"Masoor Dal\", lowBound=0, upBound=1, cat=\"Integer\")\n",
            "whitelobia=LpVariable(\"White lobia\", lowBound=0, upBound=1, cat=\"Integer\")\n",
            "moongdal=LpVariable(\"Moong Dal\", lowBound=0, upBound=1, cat=\"Integer\")\n",
            "uraddal=LpVariable(\"Urad Dal\", lowBound=0, upBound=1, cat=\"Integer\")\n",
            "rajma=LpVariable(\"Rajma\", lowBound=0, upBound=1, cat=\"Integer\")\n",
            "peanuts=LpVariable(\"Peanuts\", lowBound=0, upBound=1, cat=\"Integer\")\n",
            "horsegram=LpVariable(\"Horse Gram\", lowBound=0, upBound=1, cat=\"Integer\")\n"
          ],
          "name": "stdout"
        }
      ]
    },
    {
      "cell_type": "code",
      "metadata": {
        "id": "HYTeBBPQQVx-"
      },
      "source": [
        "onion=LpVariable(\"Onion\", lowBound=0, upBound=1, cat=\"Integer\")\n",
        "tomato=LpVariable(\"Tomato\", lowBound=0, upBound=1, cat=\"Integer\")\n",
        "capsicum=LpVariable(\"Capsicum\", lowBound=0, upBound=1, cat=\"Integer\")\n",
        "carrot=LpVariable(\"Carrot\", lowBound=0, upBound=1, cat=\"Integer\")\n",
        "ladiesfinger=LpVariable(\"Ladies Finger\", lowBound=0, upBound=1, cat=\"Integer\")\n",
        "pumpkin=LpVariable(\"Pumpkin\", lowBound=0, upBound=1, cat=\"Integer\")\n",
        "cucumber=LpVariable(\"Cucumber\", lowBound=0, upBound=1, cat=\"Integer\")\n",
        "potato=LpVariable(\"Potato\", lowBound=0, upBound=1, cat=\"Integer\")\n",
        "drumstick=LpVariable(\"Drumstick\", lowBound=0, upBound=1, cat=\"Integer\")\n",
        "corianderleaves=LpVariable(\"Coriander Leaves\", lowBound=0, upBound=1, cat=\"Integer\")\n",
        "beetroot=LpVariable(\"Beetroot\", lowBound=0, upBound=1, cat=\"Integer\")\n",
        "cabbage=LpVariable(\"Cabbage\", lowBound=0, upBound=1, cat=\"Integer\")\n",
        "cauliflower=LpVariable(\"Cauliflower\", lowBound=0, upBound=1, cat=\"Integer\")\n",
        "sweetcorn=LpVariable(\"Sweet Corn\", lowBound=0, upBound=1, cat=\"Integer\")\n",
        "brinjal=LpVariable(\"Brinjal\", lowBound=0, upBound=1, cat=\"Integer\")\n",
        "bottlegourd=LpVariable(\"Bottle Gourd\", lowBound=0, upBound=1, cat=\"Integer\")\n",
        "ridgegourd=LpVariable(\"Ridge Gourd\", lowBound=0, upBound=1, cat=\"Integer\")\n",
        "radish=LpVariable(\"Radish\", lowBound=0, upBound=1, cat=\"Integer\")\n",
        "palak=LpVariable(\"Palak\", lowBound=0, upBound=1, cat=\"Integer\")\n",
        "turnip=LpVariable(\"Turnip\", lowBound=0, upBound=1, cat=\"Integer\")\n",
        "sweetpotato=LpVariable(\"Sweet Potato\", lowBound=0, upBound=1, cat=\"Integer\")\n",
        "yam=LpVariable(\"Yam\", lowBound=0, upBound=1, cat=\"Integer\")\n",
        "greenpeas=LpVariable(\"Green Peas\", lowBound=0, upBound=1, cat=\"Integer\")\n",
        "ashgourd=LpVariable(\"Ash Gourd\", lowBound=0, upBound=1, cat=\"Integer\")\n",
        "chowchow=LpVariable(\"Chow Chow\", lowBound=0, upBound=1, cat=\"Integer\")\n",
        "coccinia=LpVariable(\"Coccinia\", lowBound=0, upBound=1, cat=\"Integer\")\n",
        "beans=LpVariable(\"Beans\", lowBound=0, upBound=1, cat=\"Integer\")\n",
        "babycorn=LpVariable(\"Baby Corn\", lowBound=0, upBound=1, cat=\"Integer\")\n",
        "knolkhol=LpVariable(\"Knol Khol\", lowBound=0, upBound=1, cat=\"Integer\")\n",
        "toordal=LpVariable(\"Toor Dal\", lowBound=0, upBound=1, cat=\"Integer\")\n",
        "wholemoong=LpVariable(\"Whole Moong\", lowBound=0, upBound=1, cat=\"Integer\")\n",
        "channadal=LpVariable(\"Channa Dal\", lowBound=0, upBound=1, cat=\"Integer\")\n",
        "chana=LpVariable(\"Chana\", lowBound=0, upBound=1, cat=\"Integer\")\n",
        "rice=LpVariable(\"Rice\", lowBound=0, upBound=1, cat=\"Integer\")\n",
        "wheatflour=LpVariable(\"Wheat Flour\", lowBound=0, upBound=1, cat=\"Integer\")\n",
        "paneer=LpVariable(\"Paneer\", lowBound=0, upBound=1, cat=\"Integer\")\n",
        "soyachunks=LpVariable(\"Soya Chunks\", lowBound=0, upBound=1, cat=\"Integer\")\n",
        "wholewheat=LpVariable(\"Whole Wheat\", lowBound=0, upBound=1, cat=\"Integer\")\n",
        "masoordal=LpVariable(\"Masoor Dal\", lowBound=0, upBound=1, cat=\"Integer\")\n",
        "whitelobia=LpVariable(\"White lobia\", lowBound=0, upBound=1, cat=\"Integer\")\n",
        "moongdal=LpVariable(\"Moong Dal\", lowBound=0, upBound=1, cat=\"Integer\")\n",
        "uraddal=LpVariable(\"Urad Dal\", lowBound=0, upBound=1, cat=\"Integer\")\n",
        "rajma=LpVariable(\"Rajma\", lowBound=0, upBound=1, cat=\"Integer\")\n",
        "peanuts=LpVariable(\"Peanuts\", lowBound=0, upBound=1, cat=\"Integer\")\n",
        "horsegram=LpVariable(\"Horse Gram\", lowBound=0, upBound=1, cat=\"Integer\")"
      ],
      "execution_count": null,
      "outputs": []
    },
    {
      "cell_type": "code",
      "metadata": {
        "colab": {
          "base_uri": "https://localhost:8080/"
        },
        "id": "sckZtoabQVx_",
        "outputId": "39453613-dece-4d15-ab35-9572fdb7c7ad"
      },
      "source": [
        "col=[]\n",
        "for i in data.keys():\n",
        "    col.append(i)\n",
        "col"
      ],
      "execution_count": null,
      "outputs": [
        {
          "output_type": "execute_result",
          "data": {
            "text/plain": [
              "['Ingredient', 'Price', 'Calories', 'Protein']"
            ]
          },
          "metadata": {
            "tags": []
          },
          "execution_count": 329
        }
      ]
    },
    {
      "cell_type": "code",
      "metadata": {
        "colab": {
          "base_uri": "https://localhost:8080/"
        },
        "id": "7Vbw7Zb1QVx_",
        "outputId": "f548424c-b6ea-4bc2-c274-3964fc8d8e43"
      },
      "source": [
        "print(len(data[col[0]]))\n",
        "price_opt = \"\"\n",
        "for i in range(len(data[col[0]])):\n",
        "    if i!=len(data[col[0]])-1:\n",
        "        price_opt += str(round(data[col[1]][i],3))+\"*\"+data[col[0]][i].lower().replace(\" \", \"\")+\"+\"\n",
        "    else:\n",
        "        price_opt += str(round(data[col[1]][i],3))+\"*\"+data[col[0]][i].lower().replace(\" \", \"\")\n",
        "print(price_opt)"
      ],
      "execution_count": null,
      "outputs": [
        {
          "output_type": "stream",
          "text": [
            "45\n",
            "2.737*onion+0.935*tomato+6.652*capsicum+4.677*carrot+3.117*ladiesfinger+4.485*pumpkin+2.263*cucumber+3.015*potato+9.592*drumstick+15.444*corianderleaves+3.018*beetroot+2.242*cabbage+2.794*cauliflower+18.0*sweetcorn+7.006*brinjal+1.778*bottlegourd+7.144*ridgegourd+4.521*radish+12.626*palak+12.899*turnip+4.968*sweetpotato+10.07*yam+21.232*greenpeas+9.318*ashgourd+6.36*chowchow+5.896*coccinia+11.508*beans+8.166*babycorn+4.92*knolkhol+16.0*toordal+18.0*wholemoong+17.5*channadal+13.0*chana+7.0*rice+4.9*wheatflour+52.742*paneer+17.5*soyachunks+5.5*wholewheat+16.0*masoordal+16.9*whitelobia+19.0*moongdal+20.0*uraddal+20.0*rajma+22.0*peanuts+20.0*horsegram\n"
          ],
          "name": "stdout"
        }
      ]
    },
    {
      "cell_type": "code",
      "metadata": {
        "id": "zNsvyi_KQVyA"
      },
      "source": [
        "prob+=2.737*onion+0.935*tomato+6.652*capsicum+4.677*carrot+3.117*ladiesfinger+4.485*pumpkin+2.263*cucumber+3.015*potato+9.592*drumstick+15.444*corianderleaves+3.018*beetroot+2.242*cabbage+2.794*cauliflower+18.0*sweetcorn+7.006*brinjal+1.778*bottlegourd+7.144*ridgegourd+4.521*radish+12.626*palak+12.899*turnip+4.968*sweetpotato+10.07*yam+21.232*greenpeas+9.318*ashgourd+6.36*chowchow+5.896*coccinia+11.508*beans+8.166*babycorn+4.92*knolkhol+16.0*toordal+18.0*wholemoong+17.5*channadal+13.0*chana+7.0*rice+4.9*wheatflour+52.742*paneer+17.5*soyachunks+5.5*wholewheat+16.0*masoordal+16.9*whitelobia+19.0*moongdal+20.0*uraddal+20.0*rajma+22.0*peanuts+20.0*horsegram"
      ],
      "execution_count": null,
      "outputs": []
    },
    {
      "cell_type": "code",
      "metadata": {
        "colab": {
          "base_uri": "https://localhost:8080/"
        },
        "id": "sBWRtZrnQVyA",
        "outputId": "cf296b76-aba6-4d43-95bf-b9990bf98455"
      },
      "source": [
        "print(len(data[col[0]]))\n",
        "cal_opt = \"\"\n",
        "for i in range(len(data[col[0]])):\n",
        "    if i!=len(data[col[0]])-1:\n",
        "        cal_opt += str(round(data[col[2]][i],3))+\"*\"+data[col[0]][i].lower().replace(\" \", \"\")+\"+\"\n",
        "    else:\n",
        "        cal_opt += str(round(data[col[2]][i],3))+\"*\"+data[col[0]][i].lower().replace(\" \", \"\")\n",
        "cal_opt += \">=450\"\n",
        "print(cal_opt)"
      ],
      "execution_count": null,
      "outputs": [
        {
          "output_type": "stream",
          "text": [
            "45\n",
            "40*onion+18*tomato+24*capsicum+41*carrot+33*ladiesfinger+26*pumpkin+10*cucumber+100*potato+64*drumstick+23*corianderleaves+43*beetroot+40*cabbage+31*cauliflower+86*sweetcorn+24*brinjal+15*bottlegourd+46*ridgegourd+16*radish+26*palak+28*turnip+86*sweetpotato+118*yam+70*greenpeas+13*ashgourd+19*chowchow+18*coccinia+25*beans+26*babycorn+27*knolkhol+134*toordal+115*wholemoong+160*channadal+164*chana+129*rice+137*wheatflour+293*paneer+330*soyachunks+137*wholewheat+158*masoordal+336*whitelobia+106*moongdal+350*uraddal+165*rajma+567*peanuts+321*horsegram>=450\n"
          ],
          "name": "stdout"
        }
      ]
    },
    {
      "cell_type": "code",
      "metadata": {
        "id": "8TMlyD7zQVyA"
      },
      "source": [
        "prob+=40*onion+18*tomato+24*capsicum+41*carrot+33*ladiesfinger+26*pumpkin+10*cucumber+100*potato+64*drumstick+23*corianderleaves+43*beetroot+40*cabbage+31*cauliflower+86*sweetcorn+24*brinjal+15*bottlegourd+46*ridgegourd+16*radish+26*palak+28*turnip+86*sweetpotato+118*yam+70*greenpeas+13*ashgourd+19*chowchow+18*coccinia+25*beans+26*babycorn+27*knolkhol+134*toordal+115*wholemoong+160*channadal+164*chana+129*rice+137*wheatflour+293*paneer+330*soyachunks+137*wholewheat+158*masoordal+336*whitelobia+106*moongdal+350*uraddal+165*rajma+567*peanuts+321*horsegram>=450"
      ],
      "execution_count": null,
      "outputs": []
    },
    {
      "cell_type": "code",
      "metadata": {
        "colab": {
          "base_uri": "https://localhost:8080/"
        },
        "id": "xAdYtPNIQVyB",
        "outputId": "2a8d73f5-4257-4fa5-a8d2-ed9b3a292c57"
      },
      "source": [
        "print(len(data[col[0]]))\n",
        "pro_opt = \"\"\n",
        "for i in range(len(data[col[0]])):\n",
        "    if i!=len(data[col[0]])-1:\n",
        "        pro_opt += str(round(data[col[3]][i],3))+\"*\"+data[col[0]][i].lower().replace(\" \", \"\")+\"+\"\n",
        "    else:\n",
        "        pro_opt += str(round(data[col[3]][i],3))+\"*\"+data[col[0]][i].lower().replace(\" \", \"\")\n",
        "pro_opt += \">=12\"\n",
        "print(pro_opt)"
      ],
      "execution_count": null,
      "outputs": [
        {
          "output_type": "stream",
          "text": [
            "45\n",
            "1.1*onion+0.9*tomato+0.9*capsicum+0.9*carrot+1.9*ladiesfinger+1*pumpkin+0.6*cucumber+2*potato+9.4*drumstick+2.13*corianderleaves+1.6*beetroot+2*cabbage+3*cauliflower+3.3*sweetcorn+1.01*brinjal+0.6*bottlegourd+1.8*ridgegourd+0.7*radish+3*palak+0.9*turnip+1.6*sweetpotato+1.5*yam+5*greenpeas+0.4*ashgourd+0.8*chowchow+1.57*coccinia+1*beans+2.5*babycorn+1.7*knolkhol+6.47*toordal+8*wholemoong+9.98*channadal+8.86*chana+2.66*rice+5*wheatflour+14.01*paneer+47.01*soyachunks+5*wholewheat+8.59*masoordal+23.52*whitelobia+7.35*moongdal+25.21*uraddal+7.04*rajma+25.8*peanuts+22*horsegram>=12\n"
          ],
          "name": "stdout"
        }
      ]
    },
    {
      "cell_type": "code",
      "metadata": {
        "id": "yu4tI2kyQVyB"
      },
      "source": [
        "prob+=1.1*onion+0.9*tomato+0.9*capsicum+0.9*carrot+1.9*ladiesfinger+1*pumpkin+0.6*cucumber+2*potato+9.4*drumstick+2.13*corianderleaves+1.6*beetroot+2*cabbage+3*cauliflower+3.3*sweetcorn+1.01*brinjal+0.6*bottlegourd+1.8*ridgegourd+0.7*radish+3*palak+0.9*turnip+1.6*sweetpotato+1.5*yam+5*greenpeas+0.4*ashgourd+0.8*chowchow+1.57*coccinia+1*beans+2.5*babycorn+1.7*knolkhol+6.47*toordal+8*wholemoong+9.98*channadal+8.86*chana+2.66*rice+5*wheatflour+14.01*paneer+47.01*soyachunks+5*wholewheat+8.59*masoordal+23.52*whitelobia+7.35*moongdal+25.21*uraddal+7.04*rajma+25.8*peanuts+22*horsegram>=12"
      ],
      "execution_count": null,
      "outputs": []
    },
    {
      "cell_type": "code",
      "metadata": {
        "colab": {
          "base_uri": "https://localhost:8080/"
        },
        "id": "fHzOs89nQVyB",
        "outputId": "5622baf4-a64d-41ae-8b5e-cdf70d722a52"
      },
      "source": [
        "prob.solve()"
      ],
      "execution_count": null,
      "outputs": [
        {
          "output_type": "execute_result",
          "data": {
            "text/plain": [
              "1"
            ]
          },
          "metadata": {
            "tags": []
          },
          "execution_count": 336
        }
      ]
    },
    {
      "cell_type": "code",
      "metadata": {
        "colab": {
          "base_uri": "https://localhost:8080/"
        },
        "id": "lTy6U6beQVyC",
        "outputId": "683c49cf-51c7-42cb-b510-53c3f8303317"
      },
      "source": [
        "print(\"Balanced Lunch can be done with Rs.\", round(value(prob.objective),2))"
      ],
      "execution_count": null,
      "outputs": [
        {
          "output_type": "stream",
          "text": [
            "Balanced Lunch can be done with Rs. 18.38\n"
          ],
          "name": "stdout"
        }
      ]
    },
    {
      "cell_type": "code",
      "metadata": {
        "colab": {
          "base_uri": "https://localhost:8080/"
        },
        "id": "-xeuWDJxQVyC",
        "outputId": "fdefe886-7e4a-447e-9e79-bbac727d2d7b"
      },
      "source": [
        "print(\"Portion of Onion is \",value(onion))"
      ],
      "execution_count": null,
      "outputs": [
        {
          "output_type": "stream",
          "text": [
            "Portion of Onion is  0.0\n"
          ],
          "name": "stdout"
        }
      ]
    },
    {
      "cell_type": "code",
      "metadata": {
        "colab": {
          "base_uri": "https://localhost:8080/"
        },
        "id": "0tb9PBW7QVyC",
        "outputId": "8f7d19f9-8911-433d-d5c5-aa7ed8c176ff"
      },
      "source": [
        "for i in Ingredient:\n",
        "    print(\"print(\\\"Portion of \"+i+\": \\\",value(\"+i.lower().replace(\" \", \"\")+\"))\")"
      ],
      "execution_count": null,
      "outputs": [
        {
          "output_type": "stream",
          "text": [
            "print(\"Portion of Onion: \",value(onion))\n",
            "print(\"Portion of Tomato: \",value(tomato))\n",
            "print(\"Portion of Capsicum: \",value(capsicum))\n",
            "print(\"Portion of Carrot: \",value(carrot))\n",
            "print(\"Portion of Ladies Finger: \",value(ladiesfinger))\n",
            "print(\"Portion of Pumpkin: \",value(pumpkin))\n",
            "print(\"Portion of Cucumber: \",value(cucumber))\n",
            "print(\"Portion of Potato: \",value(potato))\n",
            "print(\"Portion of Drumstick: \",value(drumstick))\n",
            "print(\"Portion of Coriander Leaves: \",value(corianderleaves))\n",
            "print(\"Portion of Beetroot: \",value(beetroot))\n",
            "print(\"Portion of Cabbage: \",value(cabbage))\n",
            "print(\"Portion of Cauliflower: \",value(cauliflower))\n",
            "print(\"Portion of Sweet Corn: \",value(sweetcorn))\n",
            "print(\"Portion of Brinjal: \",value(brinjal))\n",
            "print(\"Portion of Bottle Gourd: \",value(bottlegourd))\n",
            "print(\"Portion of Ridge Gourd: \",value(ridgegourd))\n",
            "print(\"Portion of Radish: \",value(radish))\n",
            "print(\"Portion of Palak: \",value(palak))\n",
            "print(\"Portion of Turnip: \",value(turnip))\n",
            "print(\"Portion of Sweet Potato: \",value(sweetpotato))\n",
            "print(\"Portion of Yam: \",value(yam))\n",
            "print(\"Portion of Green Peas: \",value(greenpeas))\n",
            "print(\"Portion of Ash Gourd: \",value(ashgourd))\n",
            "print(\"Portion of Chow Chow: \",value(chowchow))\n",
            "print(\"Portion of Coccinia: \",value(coccinia))\n",
            "print(\"Portion of Beans: \",value(beans))\n",
            "print(\"Portion of Baby Corn: \",value(babycorn))\n",
            "print(\"Portion of Knol Khol: \",value(knolkhol))\n",
            "print(\"Portion of Toor Dal: \",value(toordal))\n",
            "print(\"Portion of Whole Moong: \",value(wholemoong))\n",
            "print(\"Portion of Channa Dal: \",value(channadal))\n",
            "print(\"Portion of Chana: \",value(chana))\n",
            "print(\"Portion of Rice: \",value(rice))\n",
            "print(\"Portion of Wheat Flour: \",value(wheatflour))\n",
            "print(\"Portion of Paneer: \",value(paneer))\n",
            "print(\"Portion of Soya Chunks: \",value(soyachunks))\n",
            "print(\"Portion of Whole Wheat: \",value(wholewheat))\n",
            "print(\"Portion of Masoor Dal: \",value(masoordal))\n",
            "print(\"Portion of White lobia: \",value(whitelobia))\n",
            "print(\"Portion of Moong Dal: \",value(moongdal))\n",
            "print(\"Portion of Urad Dal: \",value(uraddal))\n",
            "print(\"Portion of Rajma: \",value(rajma))\n",
            "print(\"Portion of Peanuts: \",value(peanuts))\n",
            "print(\"Portion of Horse Gram: \",value(horsegram))\n"
          ],
          "name": "stdout"
        }
      ]
    },
    {
      "cell_type": "code",
      "metadata": {
        "colab": {
          "base_uri": "https://localhost:8080/"
        },
        "id": "LKuckWh1QVyC",
        "outputId": "2fcdbd16-5d15-45a0-e198-e3f53716d628"
      },
      "source": [
        "print(\"Portion of Onion: \",value(onion))\n",
        "print(\"Portion of Tomato: \",value(tomato))\n",
        "print(\"Portion of Capsicum: \",value(capsicum))\n",
        "print(\"Portion of Carrot: \",value(carrot))\n",
        "print(\"Portion of Ladies Finger: \",value(ladiesfinger))\n",
        "print(\"Portion of Pumpkin: \",value(pumpkin))\n",
        "print(\"Portion of Cucumber: \",value(cucumber))\n",
        "print(\"Portion of Potato: \",value(potato))\n",
        "print(\"Portion of Drumstick: \",value(drumstick))\n",
        "print(\"Portion of Coriander Leaves: \",value(corianderleaves))\n",
        "print(\"Portion of Beetroot: \",value(beetroot))\n",
        "print(\"Portion of Cabbage: \",value(cabbage))\n",
        "print(\"Portion of Cauliflower: \",value(cauliflower))\n",
        "print(\"Portion of Sweet Corn: \",value(sweetcorn))\n",
        "print(\"Portion of Brinjal: \",value(brinjal))\n",
        "print(\"Portion of Bottle Gourd: \",value(bottlegourd))\n",
        "print(\"Portion of Ridge Gourd: \",value(ridgegourd))\n",
        "print(\"Portion of Radish: \",value(radish))\n",
        "print(\"Portion of Palak: \",value(palak))\n",
        "print(\"Portion of Turnip: \",value(turnip))\n",
        "print(\"Portion of Sweet Potato: \",value(sweetpotato))\n",
        "print(\"Portion of Yam: \",value(yam))\n",
        "print(\"Portion of Green Peas: \",value(greenpeas))\n",
        "print(\"Portion of Ash Gourd: \",value(ashgourd))\n",
        "print(\"Portion of Chow Chow: \",value(chowchow))\n",
        "print(\"Portion of Coccinia: \",value(coccinia))\n",
        "print(\"Portion of Beans: \",value(beans))\n",
        "print(\"Portion of Baby Corn: \",value(babycorn))\n",
        "print(\"Portion of Knol Khol: \",value(knolkhol))\n",
        "print(\"Portion of Toor Dal: \",value(toordal))\n",
        "print(\"Portion of Whole Moong: \",value(wholemoong))\n",
        "print(\"Portion of Channa Dal: \",value(channadal))\n",
        "print(\"Portion of Chana: \",value(chana))\n",
        "print(\"Portion of Rice: \",value(rice))\n",
        "print(\"Portion of Wheat Flour: \",value(wheatflour))\n",
        "print(\"Portion of Paneer: \",value(paneer))\n",
        "print(\"Portion of Soya Chunks: \",value(soyachunks))\n",
        "print(\"Portion of Whole Wheat: \",value(wholewheat))\n",
        "print(\"Portion of Masoor Dal: \",value(masoordal))\n",
        "print(\"Portion of White lobia: \",value(whitelobia))\n",
        "print(\"Portion of Moong Dal: \",value(moongdal))\n",
        "print(\"Portion of Urad Dal: \",value(uraddal))\n",
        "print(\"Portion of Rajma: \",value(rajma))\n",
        "print(\"Portion of Peanuts: \",value(peanuts))\n",
        "print(\"Portion of Horse Gram: \",value(horsegram))"
      ],
      "execution_count": null,
      "outputs": [
        {
          "output_type": "stream",
          "text": [
            "Portion of Onion:  0.0\n",
            "Portion of Tomato:  0.0\n",
            "Portion of Capsicum:  0.0\n",
            "Portion of Carrot:  0.0\n",
            "Portion of Ladies Finger:  0.0\n",
            "Portion of Pumpkin:  0.0\n",
            "Portion of Cucumber:  0.0\n",
            "Portion of Potato:  1.0\n",
            "Portion of Drumstick:  0.0\n",
            "Portion of Coriander Leaves:  0.0\n",
            "Portion of Beetroot:  0.0\n",
            "Portion of Cabbage:  0.0\n",
            "Portion of Cauliflower:  0.0\n",
            "Portion of Sweet Corn:  0.0\n",
            "Portion of Brinjal:  0.0\n",
            "Portion of Bottle Gourd:  0.0\n",
            "Portion of Ridge Gourd:  0.0\n",
            "Portion of Radish:  0.0\n",
            "Portion of Palak:  0.0\n",
            "Portion of Turnip:  0.0\n",
            "Portion of Sweet Potato:  1.0\n",
            "Portion of Yam:  0.0\n",
            "Portion of Green Peas:  0.0\n",
            "Portion of Ash Gourd:  0.0\n",
            "Portion of Chow Chow:  0.0\n",
            "Portion of Coccinia:  0.0\n",
            "Portion of Beans:  0.0\n",
            "Portion of Baby Corn:  0.0\n",
            "Portion of Knol Khol:  0.0\n",
            "Portion of Toor Dal:  0.0\n",
            "Portion of Whole Moong:  0.0\n",
            "Portion of Channa Dal:  0.0\n",
            "Portion of Chana:  0.0\n",
            "Portion of Rice:  0.0\n",
            "Portion of Wheat Flour:  1.0\n",
            "Portion of Paneer:  0.0\n",
            "Portion of Soya Chunks:  0.0\n",
            "Portion of Whole Wheat:  1.0\n",
            "Portion of Masoor Dal:  0.0\n",
            "Portion of White lobia:  0.0\n",
            "Portion of Moong Dal:  0.0\n",
            "Portion of Urad Dal:  0.0\n",
            "Portion of Rajma:  0.0\n",
            "Portion of Peanuts:  0.0\n",
            "Portion of Horse Gram:  0.0\n"
          ],
          "name": "stdout"
        }
      ]
    }
  ]
}